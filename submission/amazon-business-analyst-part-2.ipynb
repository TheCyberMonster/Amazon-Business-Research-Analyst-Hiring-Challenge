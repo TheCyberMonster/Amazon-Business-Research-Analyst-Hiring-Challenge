{
 "cells": [
  {
   "cell_type": "code",
   "execution_count": 2,
   "metadata": {
    "execution": {
     "iopub.execute_input": "2022-09-04T09:38:54.571291Z",
     "iopub.status.busy": "2022-09-04T09:38:54.570695Z",
     "iopub.status.idle": "2022-09-04T09:38:56.022537Z",
     "shell.execute_reply": "2022-09-04T09:38:56.021590Z",
     "shell.execute_reply.started": "2022-09-04T09:38:54.571250Z"
    }
   },
   "outputs": [],
   "source": [
    "import numpy as np\n",
    "import pandas as pd\n",
    "import seaborn as sns\n",
    "import matplotlib.pyplot as plt\n",
    "import optuna\n",
    "from catboost import CatBoostRegressor\n",
    "import haversine as hs\n",
    "from sklearn.impute import KNNImputer\n",
    "import datetime as dt\n",
    "from sklearn.preprocessing import LabelEncoder\n",
    "from sklearn.metrics import r2_score,mean_squared_error\n",
    "from sklearn.model_selection import train_test_split"
   ]
  },
  {
   "cell_type": "code",
   "execution_count": 3,
   "metadata": {
    "execution": {
     "iopub.execute_input": "2022-09-04T09:38:56.024831Z",
     "iopub.status.busy": "2022-09-04T09:38:56.024493Z",
     "iopub.status.idle": "2022-09-04T09:38:56.254499Z",
     "shell.execute_reply": "2022-09-04T09:38:56.253305Z",
     "shell.execute_reply.started": "2022-09-04T09:38:56.024796Z"
    }
   },
   "outputs": [
    {
     "data": {
      "text/html": [
       "<div>\n",
       "<style scoped>\n",
       "    .dataframe tbody tr th:only-of-type {\n",
       "        vertical-align: middle;\n",
       "    }\n",
       "\n",
       "    .dataframe tbody tr th {\n",
       "        vertical-align: top;\n",
       "    }\n",
       "\n",
       "    .dataframe thead th {\n",
       "        text-align: right;\n",
       "    }\n",
       "</style>\n",
       "<table border=\"1\" class=\"dataframe\">\n",
       "  <thead>\n",
       "    <tr style=\"text-align: right;\">\n",
       "      <th></th>\n",
       "      <th>ID</th>\n",
       "      <th>Delivery_person_ID</th>\n",
       "      <th>Delivery_person_Age</th>\n",
       "      <th>Delivery_person_Ratings</th>\n",
       "      <th>Restaurant_latitude</th>\n",
       "      <th>Restaurant_longitude</th>\n",
       "      <th>Delivery_location_latitude</th>\n",
       "      <th>Delivery_location_longitude</th>\n",
       "      <th>Order_Date</th>\n",
       "      <th>Time_Orderd</th>\n",
       "      <th>Time_Order_picked</th>\n",
       "      <th>Weather</th>\n",
       "      <th>Road_traffic_density</th>\n",
       "      <th>Vehicle_condition</th>\n",
       "      <th>Type_of_order</th>\n",
       "      <th>Type_of_vehicle</th>\n",
       "      <th>multiple_deliveries</th>\n",
       "      <th>Festival</th>\n",
       "      <th>City</th>\n",
       "      <th>Time_taken (min)</th>\n",
       "    </tr>\n",
       "  </thead>\n",
       "  <tbody>\n",
       "    <tr>\n",
       "      <th>0</th>\n",
       "      <td>0x5725</td>\n",
       "      <td>CHENRES13DEL03</td>\n",
       "      <td>30.0</td>\n",
       "      <td>4.7</td>\n",
       "      <td>13.027018</td>\n",
       "      <td>80.254791</td>\n",
       "      <td>13.087018</td>\n",
       "      <td>80.314791</td>\n",
       "      <td>21-03-2022</td>\n",
       "      <td>23:40</td>\n",
       "      <td>23:45</td>\n",
       "      <td>Sunny</td>\n",
       "      <td>Low</td>\n",
       "      <td>2</td>\n",
       "      <td>Buffet</td>\n",
       "      <td>scooter</td>\n",
       "      <td>0.0</td>\n",
       "      <td>NaN</td>\n",
       "      <td>Urban</td>\n",
       "      <td>10.0</td>\n",
       "    </tr>\n",
       "    <tr>\n",
       "      <th>1</th>\n",
       "      <td>0x98ff</td>\n",
       "      <td>RANCHIRES05DEL02</td>\n",
       "      <td>23.0</td>\n",
       "      <td>4.1</td>\n",
       "      <td>23.355164</td>\n",
       "      <td>85.324097</td>\n",
       "      <td>23.375164</td>\n",
       "      <td>85.344097</td>\n",
       "      <td>28-03-2022</td>\n",
       "      <td>8:35</td>\n",
       "      <td>8:50</td>\n",
       "      <td>Stormy</td>\n",
       "      <td>Low</td>\n",
       "      <td>0</td>\n",
       "      <td>Drinks</td>\n",
       "      <td>motorcycle</td>\n",
       "      <td>0.0</td>\n",
       "      <td>No</td>\n",
       "      <td>Metropolitian</td>\n",
       "      <td>18.0</td>\n",
       "    </tr>\n",
       "    <tr>\n",
       "      <th>2</th>\n",
       "      <td>0x1bfb</td>\n",
       "      <td>COIMBRES19DEL02</td>\n",
       "      <td>23.0</td>\n",
       "      <td>4.7</td>\n",
       "      <td>11.022298</td>\n",
       "      <td>76.998349</td>\n",
       "      <td>11.072298</td>\n",
       "      <td>77.048349</td>\n",
       "      <td>01-04-2022</td>\n",
       "      <td>21:40</td>\n",
       "      <td>21:55</td>\n",
       "      <td>Fog</td>\n",
       "      <td>Jam</td>\n",
       "      <td>1</td>\n",
       "      <td>Meal</td>\n",
       "      <td>motorcycle</td>\n",
       "      <td>0.0</td>\n",
       "      <td>No</td>\n",
       "      <td>Metropolitian</td>\n",
       "      <td>29.0</td>\n",
       "    </tr>\n",
       "    <tr>\n",
       "      <th>3</th>\n",
       "      <td>0x86ea</td>\n",
       "      <td>COIMBRES19DEL02</td>\n",
       "      <td>23.0</td>\n",
       "      <td>4.6</td>\n",
       "      <td>11.022298</td>\n",
       "      <td>76.998349</td>\n",
       "      <td>11.152298</td>\n",
       "      <td>77.128349</td>\n",
       "      <td>20-03-2022</td>\n",
       "      <td>22:50</td>\n",
       "      <td>22:55</td>\n",
       "      <td>Fog</td>\n",
       "      <td>Low</td>\n",
       "      <td>0</td>\n",
       "      <td>Buffet</td>\n",
       "      <td>motorcycle</td>\n",
       "      <td>0.0</td>\n",
       "      <td>No</td>\n",
       "      <td>Urban</td>\n",
       "      <td>21.0</td>\n",
       "    </tr>\n",
       "    <tr>\n",
       "      <th>4</th>\n",
       "      <td>0xb04e</td>\n",
       "      <td>HYDRES19DEL01</td>\n",
       "      <td>25.0</td>\n",
       "      <td>5.0</td>\n",
       "      <td>17.458998</td>\n",
       "      <td>78.500366</td>\n",
       "      <td>17.468998</td>\n",
       "      <td>78.510366</td>\n",
       "      <td>03-03-2022</td>\n",
       "      <td>11:15</td>\n",
       "      <td>11:30</td>\n",
       "      <td>Cloudy</td>\n",
       "      <td>High</td>\n",
       "      <td>0</td>\n",
       "      <td>Snack</td>\n",
       "      <td>motorcycle</td>\n",
       "      <td>1.0</td>\n",
       "      <td>No</td>\n",
       "      <td>Urban</td>\n",
       "      <td>26.0</td>\n",
       "    </tr>\n",
       "  </tbody>\n",
       "</table>\n",
       "</div>"
      ],
      "text/plain": [
       "       ID Delivery_person_ID  Delivery_person_Age  Delivery_person_Ratings  \\\n",
       "0  0x5725     CHENRES13DEL03                 30.0                      4.7   \n",
       "1  0x98ff   RANCHIRES05DEL02                 23.0                      4.1   \n",
       "2  0x1bfb    COIMBRES19DEL02                 23.0                      4.7   \n",
       "3  0x86ea    COIMBRES19DEL02                 23.0                      4.6   \n",
       "4  0xb04e      HYDRES19DEL01                 25.0                      5.0   \n",
       "\n",
       "   Restaurant_latitude  Restaurant_longitude  Delivery_location_latitude  \\\n",
       "0            13.027018             80.254791                   13.087018   \n",
       "1            23.355164             85.324097                   23.375164   \n",
       "2            11.022298             76.998349                   11.072298   \n",
       "3            11.022298             76.998349                   11.152298   \n",
       "4            17.458998             78.500366                   17.468998   \n",
       "\n",
       "   Delivery_location_longitude  Order_Date Time_Orderd Time_Order_picked  \\\n",
       "0                    80.314791  21-03-2022       23:40             23:45   \n",
       "1                    85.344097  28-03-2022        8:35              8:50   \n",
       "2                    77.048349  01-04-2022       21:40             21:55   \n",
       "3                    77.128349  20-03-2022       22:50             22:55   \n",
       "4                    78.510366  03-03-2022       11:15             11:30   \n",
       "\n",
       "  Weather Road_traffic_density  Vehicle_condition Type_of_order  \\\n",
       "0   Sunny                  Low                  2        Buffet   \n",
       "1  Stormy                  Low                  0        Drinks   \n",
       "2     Fog                  Jam                  1          Meal   \n",
       "3     Fog                  Low                  0        Buffet   \n",
       "4  Cloudy                 High                  0         Snack   \n",
       "\n",
       "  Type_of_vehicle  multiple_deliveries Festival           City  \\\n",
       "0         scooter                  0.0      NaN          Urban   \n",
       "1      motorcycle                  0.0       No  Metropolitian   \n",
       "2      motorcycle                  0.0       No  Metropolitian   \n",
       "3      motorcycle                  0.0       No          Urban   \n",
       "4      motorcycle                  1.0       No          Urban   \n",
       "\n",
       "   Time_taken (min)  \n",
       "0              10.0  \n",
       "1              18.0  \n",
       "2              29.0  \n",
       "3              21.0  \n",
       "4              26.0  "
      ]
     },
     "execution_count": 3,
     "metadata": {},
     "output_type": "execute_result"
    }
   ],
   "source": [
    "df=pd.read_csv(\"train.csv\")\n",
    "df.head()"
   ]
  },
  {
   "cell_type": "code",
   "execution_count": 4,
   "metadata": {
    "execution": {
     "iopub.execute_input": "2022-09-04T09:38:56.257183Z",
     "iopub.status.busy": "2022-09-04T09:38:56.256404Z",
     "iopub.status.idle": "2022-09-04T09:38:56.300190Z",
     "shell.execute_reply": "2022-09-04T09:38:56.299172Z",
     "shell.execute_reply.started": "2022-09-04T09:38:56.257141Z"
    }
   },
   "outputs": [
    {
     "name": "stdout",
     "output_type": "stream",
     "text": [
      "<class 'pandas.core.frame.DataFrame'>\n",
      "RangeIndex: 45593 entries, 0 to 45592\n",
      "Data columns (total 20 columns):\n",
      " #   Column                       Non-Null Count  Dtype  \n",
      "---  ------                       --------------  -----  \n",
      " 0   ID                           45593 non-null  object \n",
      " 1   Delivery_person_ID           45593 non-null  object \n",
      " 2   Delivery_person_Age          43739 non-null  float64\n",
      " 3   Delivery_person_Ratings      43685 non-null  float64\n",
      " 4   Restaurant_latitude          45593 non-null  float64\n",
      " 5   Restaurant_longitude         45593 non-null  float64\n",
      " 6   Delivery_location_latitude   45593 non-null  float64\n",
      " 7   Delivery_location_longitude  45593 non-null  float64\n",
      " 8   Order_Date                   45593 non-null  object \n",
      " 9   Time_Orderd                  43862 non-null  object \n",
      " 10  Time_Order_picked            45593 non-null  object \n",
      " 11  Weather                      44977 non-null  object \n",
      " 12  Road_traffic_density         44992 non-null  object \n",
      " 13  Vehicle_condition            45593 non-null  int64  \n",
      " 14  Type_of_order                45593 non-null  object \n",
      " 15  Type_of_vehicle              45593 non-null  object \n",
      " 16  multiple_deliveries          44600 non-null  float64\n",
      " 17  Festival                     45365 non-null  object \n",
      " 18  City                         44393 non-null  object \n",
      " 19  Time_taken (min)             45593 non-null  float64\n",
      "dtypes: float64(8), int64(1), object(11)\n",
      "memory usage: 7.0+ MB\n"
     ]
    }
   ],
   "source": [
    "df.info()"
   ]
  },
  {
   "cell_type": "code",
   "execution_count": 5,
   "metadata": {
    "execution": {
     "iopub.execute_input": "2022-09-04T09:38:56.303722Z",
     "iopub.status.busy": "2022-09-04T09:38:56.303042Z",
     "iopub.status.idle": "2022-09-04T09:38:56.358344Z",
     "shell.execute_reply": "2022-09-04T09:38:56.357496Z",
     "shell.execute_reply.started": "2022-09-04T09:38:56.303687Z"
    }
   },
   "outputs": [
    {
     "data": {
      "text/html": [
       "<div>\n",
       "<style scoped>\n",
       "    .dataframe tbody tr th:only-of-type {\n",
       "        vertical-align: middle;\n",
       "    }\n",
       "\n",
       "    .dataframe tbody tr th {\n",
       "        vertical-align: top;\n",
       "    }\n",
       "\n",
       "    .dataframe thead th {\n",
       "        text-align: right;\n",
       "    }\n",
       "</style>\n",
       "<table border=\"1\" class=\"dataframe\">\n",
       "  <thead>\n",
       "    <tr style=\"text-align: right;\">\n",
       "      <th></th>\n",
       "      <th>Sum</th>\n",
       "      <th>Percentage</th>\n",
       "    </tr>\n",
       "  </thead>\n",
       "  <tbody>\n",
       "    <tr>\n",
       "      <th>Delivery_person_Ratings</th>\n",
       "      <td>1908</td>\n",
       "      <td>4.184853</td>\n",
       "    </tr>\n",
       "    <tr>\n",
       "      <th>Delivery_person_Age</th>\n",
       "      <td>1854</td>\n",
       "      <td>4.066414</td>\n",
       "    </tr>\n",
       "    <tr>\n",
       "      <th>Time_Orderd</th>\n",
       "      <td>1731</td>\n",
       "      <td>3.796635</td>\n",
       "    </tr>\n",
       "    <tr>\n",
       "      <th>City</th>\n",
       "      <td>1200</td>\n",
       "      <td>2.631983</td>\n",
       "    </tr>\n",
       "    <tr>\n",
       "      <th>multiple_deliveries</th>\n",
       "      <td>993</td>\n",
       "      <td>2.177966</td>\n",
       "    </tr>\n",
       "    <tr>\n",
       "      <th>Weather</th>\n",
       "      <td>616</td>\n",
       "      <td>1.351085</td>\n",
       "    </tr>\n",
       "    <tr>\n",
       "      <th>Road_traffic_density</th>\n",
       "      <td>601</td>\n",
       "      <td>1.318185</td>\n",
       "    </tr>\n",
       "    <tr>\n",
       "      <th>Festival</th>\n",
       "      <td>228</td>\n",
       "      <td>0.500077</td>\n",
       "    </tr>\n",
       "  </tbody>\n",
       "</table>\n",
       "</div>"
      ],
      "text/plain": [
       "                          Sum  Percentage\n",
       "Delivery_person_Ratings  1908    4.184853\n",
       "Delivery_person_Age      1854    4.066414\n",
       "Time_Orderd              1731    3.796635\n",
       "City                     1200    2.631983\n",
       "multiple_deliveries       993    2.177966\n",
       "Weather                   616    1.351085\n",
       "Road_traffic_density      601    1.318185\n",
       "Festival                  228    0.500077"
      ]
     },
     "execution_count": 5,
     "metadata": {},
     "output_type": "execute_result"
    }
   ],
   "source": [
    "Missing = pd.DataFrame()\n",
    "Missing['Sum'] = df.isna().sum()\n",
    "Missing['Percentage'] = df.isna().mean() * 100\n",
    "Missing= Missing[Missing['Sum'] > 0 ].sort_values(ascending=False,by='Sum')\n",
    "Missing"
   ]
  },
  {
   "cell_type": "markdown",
   "metadata": {},
   "source": [
    "* Time_Orderd is time imputing it is hard\n",
    "* Insted of using the time of order Time_Orderd_picked - Time_Orderd => Time taken to pickup order\n",
    "* we will convert the deliver time into minutes so "
   ]
  },
  {
   "cell_type": "code",
   "execution_count": 6,
   "metadata": {
    "execution": {
     "iopub.execute_input": "2022-09-04T09:38:56.362212Z",
     "iopub.status.busy": "2022-09-04T09:38:56.361839Z",
     "iopub.status.idle": "2022-09-04T09:38:56.376978Z",
     "shell.execute_reply": "2022-09-04T09:38:56.376029Z",
     "shell.execute_reply.started": "2022-09-04T09:38:56.362180Z"
    }
   },
   "outputs": [],
   "source": [
    "df.drop('Time_Orderd',axis=1,inplace=True)"
   ]
  },
  {
   "cell_type": "code",
   "execution_count": 7,
   "metadata": {
    "execution": {
     "iopub.execute_input": "2022-09-04T09:38:56.379474Z",
     "iopub.status.busy": "2022-09-04T09:38:56.378985Z",
     "iopub.status.idle": "2022-09-04T09:38:56.431191Z",
     "shell.execute_reply": "2022-09-04T09:38:56.430253Z",
     "shell.execute_reply.started": "2022-09-04T09:38:56.379435Z"
    }
   },
   "outputs": [
    {
     "data": {
      "text/html": [
       "<div>\n",
       "<style scoped>\n",
       "    .dataframe tbody tr th:only-of-type {\n",
       "        vertical-align: middle;\n",
       "    }\n",
       "\n",
       "    .dataframe tbody tr th {\n",
       "        vertical-align: top;\n",
       "    }\n",
       "\n",
       "    .dataframe thead th {\n",
       "        text-align: right;\n",
       "    }\n",
       "</style>\n",
       "<table border=\"1\" class=\"dataframe\">\n",
       "  <thead>\n",
       "    <tr style=\"text-align: right;\">\n",
       "      <th></th>\n",
       "      <th>Sum</th>\n",
       "      <th>Percentage</th>\n",
       "    </tr>\n",
       "  </thead>\n",
       "  <tbody>\n",
       "    <tr>\n",
       "      <th>Delivery_person_Ratings</th>\n",
       "      <td>1908</td>\n",
       "      <td>4.184853</td>\n",
       "    </tr>\n",
       "    <tr>\n",
       "      <th>Delivery_person_Age</th>\n",
       "      <td>1854</td>\n",
       "      <td>4.066414</td>\n",
       "    </tr>\n",
       "    <tr>\n",
       "      <th>City</th>\n",
       "      <td>1200</td>\n",
       "      <td>2.631983</td>\n",
       "    </tr>\n",
       "    <tr>\n",
       "      <th>multiple_deliveries</th>\n",
       "      <td>993</td>\n",
       "      <td>2.177966</td>\n",
       "    </tr>\n",
       "    <tr>\n",
       "      <th>Weather</th>\n",
       "      <td>616</td>\n",
       "      <td>1.351085</td>\n",
       "    </tr>\n",
       "    <tr>\n",
       "      <th>Road_traffic_density</th>\n",
       "      <td>601</td>\n",
       "      <td>1.318185</td>\n",
       "    </tr>\n",
       "    <tr>\n",
       "      <th>Festival</th>\n",
       "      <td>228</td>\n",
       "      <td>0.500077</td>\n",
       "    </tr>\n",
       "  </tbody>\n",
       "</table>\n",
       "</div>"
      ],
      "text/plain": [
       "                          Sum  Percentage\n",
       "Delivery_person_Ratings  1908    4.184853\n",
       "Delivery_person_Age      1854    4.066414\n",
       "City                     1200    2.631983\n",
       "multiple_deliveries       993    2.177966\n",
       "Weather                   616    1.351085\n",
       "Road_traffic_density      601    1.318185\n",
       "Festival                  228    0.500077"
      ]
     },
     "execution_count": 7,
     "metadata": {},
     "output_type": "execute_result"
    }
   ],
   "source": [
    "Missing = pd.DataFrame()\n",
    "Missing['Sum'] = df.isna().sum()\n",
    "Missing['Percentage'] = df.isna().mean() * 100\n",
    "Missing= Missing[Missing['Sum'] > 0 ].sort_values(ascending=False,by='Sum')\n",
    "Missing"
   ]
  },
  {
   "cell_type": "code",
   "execution_count": 8,
   "metadata": {
    "execution": {
     "iopub.execute_input": "2022-09-04T09:38:56.433601Z",
     "iopub.status.busy": "2022-09-04T09:38:56.432620Z",
     "iopub.status.idle": "2022-09-04T09:38:56.438066Z",
     "shell.execute_reply": "2022-09-04T09:38:56.436888Z",
     "shell.execute_reply.started": "2022-09-04T09:38:56.433566Z"
    }
   },
   "outputs": [],
   "source": [
    "# Knn_imputer numerical missing data\n",
    "knn_imputer = KNNImputer()"
   ]
  },
  {
   "cell_type": "code",
   "execution_count": 9,
   "metadata": {
    "execution": {
     "iopub.execute_input": "2022-09-04T09:38:56.440693Z",
     "iopub.status.busy": "2022-09-04T09:38:56.439563Z",
     "iopub.status.idle": "2022-09-04T09:39:10.749508Z",
     "shell.execute_reply": "2022-09-04T09:39:10.748413Z",
     "shell.execute_reply.started": "2022-09-04T09:38:56.440658Z"
    }
   },
   "outputs": [],
   "source": [
    "df[['Delivery_person_Ratings','Delivery_person_Age','multiple_deliveries']] = knn_imputer.fit_transform(df[['Delivery_person_Ratings','Delivery_person_Age','multiple_deliveries']])"
   ]
  },
  {
   "cell_type": "markdown",
   "metadata": {},
   "source": [
    "* we will dro`ID and Delivery_person_ID` \n",
    "* ID is an unique identifier so it doensn't help in "
   ]
  },
  {
   "cell_type": "code",
   "execution_count": 10,
   "metadata": {
    "execution": {
     "iopub.execute_input": "2022-09-04T09:39:10.751630Z",
     "iopub.status.busy": "2022-09-04T09:39:10.750937Z",
     "iopub.status.idle": "2022-09-04T09:39:10.841546Z",
     "shell.execute_reply": "2022-09-04T09:39:10.840617Z",
     "shell.execute_reply.started": "2022-09-04T09:39:10.751592Z"
    }
   },
   "outputs": [
    {
     "data": {
      "text/html": [
       "<div>\n",
       "<style scoped>\n",
       "    .dataframe tbody tr th:only-of-type {\n",
       "        vertical-align: middle;\n",
       "    }\n",
       "\n",
       "    .dataframe tbody tr th {\n",
       "        vertical-align: top;\n",
       "    }\n",
       "\n",
       "    .dataframe thead th {\n",
       "        text-align: right;\n",
       "    }\n",
       "</style>\n",
       "<table border=\"1\" class=\"dataframe\">\n",
       "  <thead>\n",
       "    <tr style=\"text-align: right;\">\n",
       "      <th></th>\n",
       "      <th>Sum</th>\n",
       "      <th>Percentage</th>\n",
       "    </tr>\n",
       "  </thead>\n",
       "  <tbody>\n",
       "    <tr>\n",
       "      <th>City</th>\n",
       "      <td>1200</td>\n",
       "      <td>2.631983</td>\n",
       "    </tr>\n",
       "    <tr>\n",
       "      <th>Weather</th>\n",
       "      <td>616</td>\n",
       "      <td>1.351085</td>\n",
       "    </tr>\n",
       "    <tr>\n",
       "      <th>Road_traffic_density</th>\n",
       "      <td>601</td>\n",
       "      <td>1.318185</td>\n",
       "    </tr>\n",
       "    <tr>\n",
       "      <th>Festival</th>\n",
       "      <td>228</td>\n",
       "      <td>0.500077</td>\n",
       "    </tr>\n",
       "  </tbody>\n",
       "</table>\n",
       "</div>"
      ],
      "text/plain": [
       "                       Sum  Percentage\n",
       "City                  1200    2.631983\n",
       "Weather                616    1.351085\n",
       "Road_traffic_density   601    1.318185\n",
       "Festival               228    0.500077"
      ]
     },
     "execution_count": 10,
     "metadata": {},
     "output_type": "execute_result"
    }
   ],
   "source": [
    "Missing = pd.DataFrame()\n",
    "Missing['Sum'] = df.isna().sum()\n",
    "Missing['Percentage'] = df.isna().mean() * 100\n",
    "Missing= Missing[Missing['Sum'] > 0 ].sort_values(ascending=False,by='Sum')\n",
    "Missing\n"
   ]
  },
  {
   "cell_type": "code",
   "execution_count": 11,
   "metadata": {
    "execution": {
     "iopub.execute_input": "2022-09-04T09:39:10.851101Z",
     "iopub.status.busy": "2022-09-04T09:39:10.848368Z",
     "iopub.status.idle": "2022-09-04T09:39:11.185960Z",
     "shell.execute_reply": "2022-09-04T09:39:11.184998Z",
     "shell.execute_reply.started": "2022-09-04T09:39:10.851061Z"
    }
   },
   "outputs": [
    {
     "name": "stderr",
     "output_type": "stream",
     "text": [
      "/opt/conda/lib/python3.7/site-packages/seaborn/_decorators.py:43: FutureWarning: Pass the following variable as a keyword arg: x. From version 0.12, the only valid positional argument will be `data`, and passing other arguments without an explicit keyword will result in an error or misinterpretation.\n",
      "  FutureWarning\n"
     ]
    },
    {
     "data": {
      "text/plain": [
       "<AxesSubplot:xlabel='City', ylabel='count'>"
      ]
     },
     "execution_count": 11,
     "metadata": {},
     "output_type": "execute_result"
    },
    {
     "data": {
      "image/png": "[encoded data removed]",
      "text/plain": [
       "<Figure size 432x288 with 1 Axes>"
      ]
     },
     "metadata": {
      "needs_background": "light"
     },
     "output_type": "display_data"
    }
   ],
   "source": [
    "sns.countplot(df.City)"
   ]
  },
  {
   "cell_type": "code",
   "execution_count": 12,
   "metadata": {
    "execution": {
     "iopub.execute_input": "2022-09-04T09:39:11.192645Z",
     "iopub.status.busy": "2022-09-04T09:39:11.189976Z",
     "iopub.status.idle": "2022-09-04T09:39:11.206324Z",
     "shell.execute_reply": "2022-09-04T09:39:11.205312Z",
     "shell.execute_reply.started": "2022-09-04T09:39:11.192606Z"
    }
   },
   "outputs": [
    {
     "data": {
      "text/plain": [
       "array(['Urban', 'Metropolitian', nan, 'Semi-Urban'], dtype=object)"
      ]
     },
     "execution_count": 12,
     "metadata": {},
     "output_type": "execute_result"
    }
   ],
   "source": [
    "df.City.unique()"
   ]
  },
  {
   "cell_type": "markdown",
   "metadata": {},
   "source": [
    "* we will group semi urban an missing as one catagory as they are in very minor quantitties and name them others"
   ]
  },
  {
   "cell_type": "code",
   "execution_count": 13,
   "metadata": {
    "execution": {
     "iopub.execute_input": "2022-09-04T09:39:11.208898Z",
     "iopub.status.busy": "2022-09-04T09:39:11.208224Z",
     "iopub.status.idle": "2022-09-04T09:39:11.229928Z",
     "shell.execute_reply": "2022-09-04T09:39:11.228815Z",
     "shell.execute_reply.started": "2022-09-04T09:39:11.208862Z"
    }
   },
   "outputs": [],
   "source": [
    "df.City = df.City.apply(lambda x: 'other' if x not in ('Urban','Metropolitian') else x )"
   ]
  },
  {
   "cell_type": "code",
   "execution_count": 14,
   "metadata": {
    "execution": {
     "iopub.execute_input": "2022-09-04T09:39:11.236997Z",
     "iopub.status.busy": "2022-09-04T09:39:11.234279Z",
     "iopub.status.idle": "2022-09-04T09:39:11.534709Z",
     "shell.execute_reply": "2022-09-04T09:39:11.533487Z",
     "shell.execute_reply.started": "2022-09-04T09:39:11.236960Z"
    }
   },
   "outputs": [
    {
     "name": "stderr",
     "output_type": "stream",
     "text": [
      "/opt/conda/lib/python3.7/site-packages/seaborn/_decorators.py:43: FutureWarning: Pass the following variable as a keyword arg: x. From version 0.12, the only valid positional argument will be `data`, and passing other arguments without an explicit keyword will result in an error or misinterpretation.\n",
      "  FutureWarning\n"
     ]
    },
    {
     "data": {
      "text/plain": [
       "<AxesSubplot:xlabel='City', ylabel='count'>"
      ]
     },
     "execution_count": 14,
     "metadata": {},
     "output_type": "execute_result"
    },
    {
     "data": {
      "image/png": "[encoded data removed]",
      "text/plain": [
       "<Figure size 432x288 with 1 Axes>"
      ]
     },
     "metadata": {
      "needs_background": "light"
     },
     "output_type": "display_data"
    }
   ],
   "source": [
    "sns.countplot(df.City)"
   ]
  },
  {
   "cell_type": "code",
   "execution_count": 15,
   "metadata": {
    "execution": {
     "iopub.execute_input": "2022-09-04T09:39:11.542041Z",
     "iopub.status.busy": "2022-09-04T09:39:11.538851Z",
     "iopub.status.idle": "2022-09-04T09:39:11.572413Z",
     "shell.execute_reply": "2022-09-04T09:39:11.571534Z",
     "shell.execute_reply.started": "2022-09-04T09:39:11.541990Z"
    }
   },
   "outputs": [
    {
     "data": {
      "text/html": [
       "<div>\n",
       "<style scoped>\n",
       "    .dataframe tbody tr th:only-of-type {\n",
       "        vertical-align: middle;\n",
       "    }\n",
       "\n",
       "    .dataframe tbody tr th {\n",
       "        vertical-align: top;\n",
       "    }\n",
       "\n",
       "    .dataframe thead th {\n",
       "        text-align: right;\n",
       "    }\n",
       "</style>\n",
       "<table border=\"1\" class=\"dataframe\">\n",
       "  <thead>\n",
       "    <tr style=\"text-align: right;\">\n",
       "      <th></th>\n",
       "      <th>Weather</th>\n",
       "      <th>Road_traffic_density</th>\n",
       "      <th>Festival</th>\n",
       "    </tr>\n",
       "  </thead>\n",
       "  <tbody>\n",
       "    <tr>\n",
       "      <th>0</th>\n",
       "      <td>False</td>\n",
       "      <td>False</td>\n",
       "      <td>True</td>\n",
       "    </tr>\n",
       "    <tr>\n",
       "      <th>1</th>\n",
       "      <td>False</td>\n",
       "      <td>False</td>\n",
       "      <td>False</td>\n",
       "    </tr>\n",
       "    <tr>\n",
       "      <th>2</th>\n",
       "      <td>False</td>\n",
       "      <td>False</td>\n",
       "      <td>False</td>\n",
       "    </tr>\n",
       "    <tr>\n",
       "      <th>3</th>\n",
       "      <td>False</td>\n",
       "      <td>False</td>\n",
       "      <td>False</td>\n",
       "    </tr>\n",
       "    <tr>\n",
       "      <th>4</th>\n",
       "      <td>False</td>\n",
       "      <td>False</td>\n",
       "      <td>False</td>\n",
       "    </tr>\n",
       "  </tbody>\n",
       "</table>\n",
       "</div>"
      ],
      "text/plain": [
       "   Weather  Road_traffic_density  Festival\n",
       "0    False                 False      True\n",
       "1    False                 False     False\n",
       "2    False                 False     False\n",
       "3    False                 False     False\n",
       "4    False                 False     False"
      ]
     },
     "execution_count": 15,
     "metadata": {},
     "output_type": "execute_result"
    }
   ],
   "source": [
    "# rest 3 we will build knn imputation again but with lable encoding\n",
    "missing_snapshot = df[['Weather','Road_traffic_density','Festival']].isna()\n",
    "missing_snapshot.head()"
   ]
  },
  {
   "cell_type": "code",
   "execution_count": 16,
   "metadata": {
    "execution": {
     "iopub.execute_input": "2022-09-04T09:39:11.579533Z",
     "iopub.status.busy": "2022-09-04T09:39:11.576670Z",
     "iopub.status.idle": "2022-09-04T09:39:11.594459Z",
     "shell.execute_reply": "2022-09-04T09:39:11.593151Z",
     "shell.execute_reply.started": "2022-09-04T09:39:11.579495Z"
    }
   },
   "outputs": [
    {
     "data": {
      "text/html": [
       "<div>\n",
       "<style scoped>\n",
       "    .dataframe tbody tr th:only-of-type {\n",
       "        vertical-align: middle;\n",
       "    }\n",
       "\n",
       "    .dataframe tbody tr th {\n",
       "        vertical-align: top;\n",
       "    }\n",
       "\n",
       "    .dataframe thead th {\n",
       "        text-align: right;\n",
       "    }\n",
       "</style>\n",
       "<table border=\"1\" class=\"dataframe\">\n",
       "  <thead>\n",
       "    <tr style=\"text-align: right;\">\n",
       "      <th></th>\n",
       "      <th>Weather</th>\n",
       "      <th>Road_traffic_density</th>\n",
       "      <th>Festival</th>\n",
       "    </tr>\n",
       "  </thead>\n",
       "  <tbody>\n",
       "    <tr>\n",
       "      <th>0</th>\n",
       "      <td>True</td>\n",
       "      <td>True</td>\n",
       "      <td>False</td>\n",
       "    </tr>\n",
       "    <tr>\n",
       "      <th>1</th>\n",
       "      <td>True</td>\n",
       "      <td>True</td>\n",
       "      <td>True</td>\n",
       "    </tr>\n",
       "    <tr>\n",
       "      <th>2</th>\n",
       "      <td>True</td>\n",
       "      <td>True</td>\n",
       "      <td>True</td>\n",
       "    </tr>\n",
       "    <tr>\n",
       "      <th>3</th>\n",
       "      <td>True</td>\n",
       "      <td>True</td>\n",
       "      <td>True</td>\n",
       "    </tr>\n",
       "    <tr>\n",
       "      <th>4</th>\n",
       "      <td>True</td>\n",
       "      <td>True</td>\n",
       "      <td>True</td>\n",
       "    </tr>\n",
       "  </tbody>\n",
       "</table>\n",
       "</div>"
      ],
      "text/plain": [
       "   Weather  Road_traffic_density  Festival\n",
       "0     True                  True     False\n",
       "1     True                  True      True\n",
       "2     True                  True      True\n",
       "3     True                  True      True\n",
       "4     True                  True      True"
      ]
     },
     "execution_count": 16,
     "metadata": {},
     "output_type": "execute_result"
    }
   ],
   "source": [
    "# this code convers missing snapshot to non missing snapshot mark\n",
    "missing_snapshot = ~missing_snapshot\n",
    "missing_snapshot.head()"
   ]
  },
  {
   "cell_type": "code",
   "execution_count": 17,
   "metadata": {
    "execution": {
     "iopub.execute_input": "2022-09-04T09:39:11.601126Z",
     "iopub.status.busy": "2022-09-04T09:39:11.598464Z",
     "iopub.status.idle": "2022-09-04T09:39:11.618545Z",
     "shell.execute_reply": "2022-09-04T09:39:11.617670Z",
     "shell.execute_reply.started": "2022-09-04T09:39:11.601089Z"
    }
   },
   "outputs": [
    {
     "data": {
      "text/html": [
       "<div>\n",
       "<style scoped>\n",
       "    .dataframe tbody tr th:only-of-type {\n",
       "        vertical-align: middle;\n",
       "    }\n",
       "\n",
       "    .dataframe tbody tr th {\n",
       "        vertical-align: top;\n",
       "    }\n",
       "\n",
       "    .dataframe thead th {\n",
       "        text-align: right;\n",
       "    }\n",
       "</style>\n",
       "<table border=\"1\" class=\"dataframe\">\n",
       "  <thead>\n",
       "    <tr style=\"text-align: right;\">\n",
       "      <th></th>\n",
       "      <th>Weather</th>\n",
       "      <th>Road_traffic_density</th>\n",
       "      <th>Festival</th>\n",
       "    </tr>\n",
       "  </thead>\n",
       "  <tbody>\n",
       "    <tr>\n",
       "      <th>0</th>\n",
       "      <td>Sunny</td>\n",
       "      <td>Low</td>\n",
       "      <td>NaN</td>\n",
       "    </tr>\n",
       "    <tr>\n",
       "      <th>1</th>\n",
       "      <td>Stormy</td>\n",
       "      <td>Low</td>\n",
       "      <td>No</td>\n",
       "    </tr>\n",
       "    <tr>\n",
       "      <th>2</th>\n",
       "      <td>Fog</td>\n",
       "      <td>Jam</td>\n",
       "      <td>No</td>\n",
       "    </tr>\n",
       "    <tr>\n",
       "      <th>3</th>\n",
       "      <td>Fog</td>\n",
       "      <td>Low</td>\n",
       "      <td>No</td>\n",
       "    </tr>\n",
       "    <tr>\n",
       "      <th>4</th>\n",
       "      <td>Cloudy</td>\n",
       "      <td>High</td>\n",
       "      <td>No</td>\n",
       "    </tr>\n",
       "  </tbody>\n",
       "</table>\n",
       "</div>"
      ],
      "text/plain": [
       "  Weather Road_traffic_density Festival\n",
       "0   Sunny                  Low      NaN\n",
       "1  Stormy                  Low       No\n",
       "2     Fog                  Jam       No\n",
       "3     Fog                  Low       No\n",
       "4  Cloudy                 High       No"
      ]
     },
     "execution_count": 17,
     "metadata": {},
     "output_type": "execute_result"
    }
   ],
   "source": [
    "df[['Weather','Road_traffic_density','Festival']].head()"
   ]
  },
  {
   "cell_type": "code",
   "execution_count": 18,
   "metadata": {
    "execution": {
     "iopub.execute_input": "2022-09-04T09:39:11.625069Z",
     "iopub.status.busy": "2022-09-04T09:39:11.622438Z",
     "iopub.status.idle": "2022-09-04T09:39:11.652187Z",
     "shell.execute_reply": "2022-09-04T09:39:11.651129Z",
     "shell.execute_reply.started": "2022-09-04T09:39:11.625034Z"
    }
   },
   "outputs": [],
   "source": [
    "enc1= LabelEncoder()\n",
    "df['Weather'] =enc.fit_transform(df['Weather'])"
   ]
  },
  {
   "cell_type": "code",
   "execution_count": 19,
   "metadata": {
    "execution": {
     "iopub.execute_input": "2022-09-04T09:39:11.659602Z",
     "iopub.status.busy": "2022-09-04T09:39:11.656835Z",
     "iopub.status.idle": "2022-09-04T09:39:11.688979Z",
     "shell.execute_reply": "2022-09-04T09:39:11.688034Z",
     "shell.execute_reply.started": "2022-09-04T09:39:11.659562Z"
    }
   },
   "outputs": [],
   "source": [
    "enc2= LabelEncoder()\n",
    "df['Road_traffic_density'] =enc2.fit_transform(df['Road_traffic_density'])"
   ]
  },
  {
   "cell_type": "code",
   "execution_count": 20,
   "metadata": {
    "execution": {
     "iopub.execute_input": "2022-09-04T09:39:11.695604Z",
     "iopub.status.busy": "2022-09-04T09:39:11.692883Z",
     "iopub.status.idle": "2022-09-04T09:39:11.719750Z",
     "shell.execute_reply": "2022-09-04T09:39:11.718799Z",
     "shell.execute_reply.started": "2022-09-04T09:39:11.695567Z"
    }
   },
   "outputs": [],
   "source": [
    "enc3= LabelEncoder()\n",
    "df['Festival'] =enc3.fit_transform(df['Festival'])"
   ]
  },
  {
   "cell_type": "markdown",
   "metadata": {},
   "source": [
    "* with the use of lable enoder the missing values is also encoded to numerical value so we will eleiminate it with the help of snapshot table we built"
   ]
  },
  {
   "cell_type": "code",
   "execution_count": 21,
   "metadata": {
    "execution": {
     "iopub.execute_input": "2022-09-04T09:39:11.726424Z",
     "iopub.status.busy": "2022-09-04T09:39:11.723814Z",
     "iopub.status.idle": "2022-09-04T09:39:11.743407Z",
     "shell.execute_reply": "2022-09-04T09:39:11.742505Z",
     "shell.execute_reply.started": "2022-09-04T09:39:11.726387Z"
    }
   },
   "outputs": [
    {
     "data": {
      "text/html": [
       "<div>\n",
       "<style scoped>\n",
       "    .dataframe tbody tr th:only-of-type {\n",
       "        vertical-align: middle;\n",
       "    }\n",
       "\n",
       "    .dataframe tbody tr th {\n",
       "        vertical-align: top;\n",
       "    }\n",
       "\n",
       "    .dataframe thead th {\n",
       "        text-align: right;\n",
       "    }\n",
       "</style>\n",
       "<table border=\"1\" class=\"dataframe\">\n",
       "  <thead>\n",
       "    <tr style=\"text-align: right;\">\n",
       "      <th></th>\n",
       "      <th>Weather</th>\n",
       "      <th>Road_traffic_density</th>\n",
       "      <th>Festival</th>\n",
       "    </tr>\n",
       "  </thead>\n",
       "  <tbody>\n",
       "    <tr>\n",
       "      <th>0</th>\n",
       "      <td>4</td>\n",
       "      <td>2</td>\n",
       "      <td>2</td>\n",
       "    </tr>\n",
       "    <tr>\n",
       "      <th>1</th>\n",
       "      <td>3</td>\n",
       "      <td>2</td>\n",
       "      <td>0</td>\n",
       "    </tr>\n",
       "    <tr>\n",
       "      <th>2</th>\n",
       "      <td>1</td>\n",
       "      <td>1</td>\n",
       "      <td>0</td>\n",
       "    </tr>\n",
       "    <tr>\n",
       "      <th>3</th>\n",
       "      <td>1</td>\n",
       "      <td>2</td>\n",
       "      <td>0</td>\n",
       "    </tr>\n",
       "    <tr>\n",
       "      <th>4</th>\n",
       "      <td>0</td>\n",
       "      <td>0</td>\n",
       "      <td>0</td>\n",
       "    </tr>\n",
       "  </tbody>\n",
       "</table>\n",
       "</div>"
      ],
      "text/plain": [
       "   Weather  Road_traffic_density  Festival\n",
       "0        4                     2         2\n",
       "1        3                     2         0\n",
       "2        1                     1         0\n",
       "3        1                     2         0\n",
       "4        0                     0         0"
      ]
     },
     "execution_count": 21,
     "metadata": {},
     "output_type": "execute_result"
    }
   ],
   "source": [
    "df[['Weather','Road_traffic_density','Festival']].head()"
   ]
  },
  {
   "cell_type": "code",
   "execution_count": 22,
   "metadata": {
    "execution": {
     "iopub.execute_input": "2022-09-04T09:39:11.749791Z",
     "iopub.status.busy": "2022-09-04T09:39:11.747259Z",
     "iopub.status.idle": "2022-09-04T09:39:11.791482Z",
     "shell.execute_reply": "2022-09-04T09:39:11.790605Z",
     "shell.execute_reply.started": "2022-09-04T09:39:11.749755Z"
    }
   },
   "outputs": [
    {
     "data": {
      "text/html": [
       "<div>\n",
       "<style scoped>\n",
       "    .dataframe tbody tr th:only-of-type {\n",
       "        vertical-align: middle;\n",
       "    }\n",
       "\n",
       "    .dataframe tbody tr th {\n",
       "        vertical-align: top;\n",
       "    }\n",
       "\n",
       "    .dataframe thead th {\n",
       "        text-align: right;\n",
       "    }\n",
       "</style>\n",
       "<table border=\"1\" class=\"dataframe\">\n",
       "  <thead>\n",
       "    <tr style=\"text-align: right;\">\n",
       "      <th></th>\n",
       "      <th>Weather</th>\n",
       "      <th>Road_traffic_density</th>\n",
       "      <th>Festival</th>\n",
       "    </tr>\n",
       "  </thead>\n",
       "  <tbody>\n",
       "    <tr>\n",
       "      <th>0</th>\n",
       "      <td>4.0</td>\n",
       "      <td>2.0</td>\n",
       "      <td>NaN</td>\n",
       "    </tr>\n",
       "    <tr>\n",
       "      <th>1</th>\n",
       "      <td>3.0</td>\n",
       "      <td>2.0</td>\n",
       "      <td>0.0</td>\n",
       "    </tr>\n",
       "    <tr>\n",
       "      <th>2</th>\n",
       "      <td>1.0</td>\n",
       "      <td>1.0</td>\n",
       "      <td>0.0</td>\n",
       "    </tr>\n",
       "    <tr>\n",
       "      <th>3</th>\n",
       "      <td>1.0</td>\n",
       "      <td>2.0</td>\n",
       "      <td>0.0</td>\n",
       "    </tr>\n",
       "    <tr>\n",
       "      <th>4</th>\n",
       "      <td>0.0</td>\n",
       "      <td>0.0</td>\n",
       "      <td>0.0</td>\n",
       "    </tr>\n",
       "  </tbody>\n",
       "</table>\n",
       "</div>"
      ],
      "text/plain": [
       "   Weather  Road_traffic_density  Festival\n",
       "0      4.0                   2.0       NaN\n",
       "1      3.0                   2.0       0.0\n",
       "2      1.0                   1.0       0.0\n",
       "3      1.0                   2.0       0.0\n",
       "4      0.0                   0.0       0.0"
      ]
     },
     "execution_count": 22,
     "metadata": {},
     "output_type": "execute_result"
    }
   ],
   "source": [
    "df[['Weather','Road_traffic_density','Festival']] = df[['Weather','Road_traffic_density','Festival']][missing_snapshot]\n",
    "df[['Weather','Road_traffic_density','Festival']].head()"
   ]
  },
  {
   "cell_type": "markdown",
   "metadata": {},
   "source": [
    "* we successfully droped all null values encoded  duplicates\n",
    "* now we will use KNN imputation to fill missing values"
   ]
  },
  {
   "cell_type": "code",
   "execution_count": 23,
   "metadata": {
    "execution": {
     "iopub.execute_input": "2022-09-04T09:39:11.798243Z",
     "iopub.status.busy": "2022-09-04T09:39:11.795705Z",
     "iopub.status.idle": "2022-09-04T09:39:11.804376Z",
     "shell.execute_reply": "2022-09-04T09:39:11.803329Z",
     "shell.execute_reply.started": "2022-09-04T09:39:11.798207Z"
    }
   },
   "outputs": [],
   "source": [
    "knn_cat = KNNImputer()"
   ]
  },
  {
   "cell_type": "code",
   "execution_count": 24,
   "metadata": {
    "execution": {
     "iopub.execute_input": "2022-09-04T09:39:11.811579Z",
     "iopub.status.busy": "2022-09-04T09:39:11.809254Z",
     "iopub.status.idle": "2022-09-04T09:39:15.877534Z",
     "shell.execute_reply": "2022-09-04T09:39:15.876524Z",
     "shell.execute_reply.started": "2022-09-04T09:39:11.811543Z"
    }
   },
   "outputs": [],
   "source": [
    "df[['Weather','Road_traffic_density','Festival']] = knn_cat.fit_transform(df[['Weather','Road_traffic_density','Festival']])"
   ]
  },
  {
   "cell_type": "code",
   "execution_count": 25,
   "metadata": {
    "execution": {
     "iopub.execute_input": "2022-09-04T09:39:15.879529Z",
     "iopub.status.busy": "2022-09-04T09:39:15.879116Z",
     "iopub.status.idle": "2022-09-04T09:39:15.892155Z",
     "shell.execute_reply": "2022-09-04T09:39:15.891232Z",
     "shell.execute_reply.started": "2022-09-04T09:39:15.879488Z"
    }
   },
   "outputs": [
    {
     "data": {
      "text/html": [
       "<div>\n",
       "<style scoped>\n",
       "    .dataframe tbody tr th:only-of-type {\n",
       "        vertical-align: middle;\n",
       "    }\n",
       "\n",
       "    .dataframe tbody tr th {\n",
       "        vertical-align: top;\n",
       "    }\n",
       "\n",
       "    .dataframe thead th {\n",
       "        text-align: right;\n",
       "    }\n",
       "</style>\n",
       "<table border=\"1\" class=\"dataframe\">\n",
       "  <thead>\n",
       "    <tr style=\"text-align: right;\">\n",
       "      <th></th>\n",
       "      <th>Weather</th>\n",
       "      <th>Road_traffic_density</th>\n",
       "      <th>Festival</th>\n",
       "    </tr>\n",
       "  </thead>\n",
       "  <tbody>\n",
       "    <tr>\n",
       "      <th>0</th>\n",
       "      <td>4.0</td>\n",
       "      <td>2.0</td>\n",
       "      <td>0.0</td>\n",
       "    </tr>\n",
       "    <tr>\n",
       "      <th>1</th>\n",
       "      <td>3.0</td>\n",
       "      <td>2.0</td>\n",
       "      <td>0.0</td>\n",
       "    </tr>\n",
       "    <tr>\n",
       "      <th>2</th>\n",
       "      <td>1.0</td>\n",
       "      <td>1.0</td>\n",
       "      <td>0.0</td>\n",
       "    </tr>\n",
       "    <tr>\n",
       "      <th>3</th>\n",
       "      <td>1.0</td>\n",
       "      <td>2.0</td>\n",
       "      <td>0.0</td>\n",
       "    </tr>\n",
       "    <tr>\n",
       "      <th>4</th>\n",
       "      <td>0.0</td>\n",
       "      <td>0.0</td>\n",
       "      <td>0.0</td>\n",
       "    </tr>\n",
       "  </tbody>\n",
       "</table>\n",
       "</div>"
      ],
      "text/plain": [
       "   Weather  Road_traffic_density  Festival\n",
       "0      4.0                   2.0       0.0\n",
       "1      3.0                   2.0       0.0\n",
       "2      1.0                   1.0       0.0\n",
       "3      1.0                   2.0       0.0\n",
       "4      0.0                   0.0       0.0"
      ]
     },
     "execution_count": 25,
     "metadata": {},
     "output_type": "execute_result"
    }
   ],
   "source": [
    "df[['Weather','Road_traffic_density','Festival']].head()"
   ]
  },
  {
   "cell_type": "code",
   "execution_count": 26,
   "metadata": {
    "execution": {
     "iopub.execute_input": "2022-09-04T09:39:15.894195Z",
     "iopub.status.busy": "2022-09-04T09:39:15.893603Z",
     "iopub.status.idle": "2022-09-04T09:39:15.916721Z",
     "shell.execute_reply": "2022-09-04T09:39:15.915844Z",
     "shell.execute_reply.started": "2022-09-04T09:39:15.894160Z"
    }
   },
   "outputs": [],
   "source": [
    "df[['Weather','Road_traffic_density','Festival']] = df[['Weather','Road_traffic_density','Festival']].astype(int)\n",
    "df[['Weather','Road_traffic_density','Festival']] = df[['Weather','Road_traffic_density','Festival']].astype(object)"
   ]
  },
  {
   "cell_type": "code",
   "execution_count": 27,
   "metadata": {
    "execution": {
     "iopub.execute_input": "2022-09-04T09:39:15.918539Z",
     "iopub.status.busy": "2022-09-04T09:39:15.917964Z",
     "iopub.status.idle": "2022-09-04T09:39:15.923887Z",
     "shell.execute_reply": "2022-09-04T09:39:15.922939Z",
     "shell.execute_reply.started": "2022-09-04T09:39:15.918503Z"
    }
   },
   "outputs": [],
   "source": [
    "pd.set_option('display.max_columns',None)"
   ]
  },
  {
   "cell_type": "code",
   "execution_count": 28,
   "metadata": {
    "execution": {
     "iopub.execute_input": "2022-09-04T09:39:15.926462Z",
     "iopub.status.busy": "2022-09-04T09:39:15.925389Z",
     "iopub.status.idle": "2022-09-04T09:39:15.952019Z",
     "shell.execute_reply": "2022-09-04T09:39:15.951023Z",
     "shell.execute_reply.started": "2022-09-04T09:39:15.926398Z"
    }
   },
   "outputs": [
    {
     "data": {
      "text/html": [
       "<div>\n",
       "<style scoped>\n",
       "    .dataframe tbody tr th:only-of-type {\n",
       "        vertical-align: middle;\n",
       "    }\n",
       "\n",
       "    .dataframe tbody tr th {\n",
       "        vertical-align: top;\n",
       "    }\n",
       "\n",
       "    .dataframe thead th {\n",
       "        text-align: right;\n",
       "    }\n",
       "</style>\n",
       "<table border=\"1\" class=\"dataframe\">\n",
       "  <thead>\n",
       "    <tr style=\"text-align: right;\">\n",
       "      <th></th>\n",
       "      <th>ID</th>\n",
       "      <th>Delivery_person_ID</th>\n",
       "      <th>Delivery_person_Age</th>\n",
       "      <th>Delivery_person_Ratings</th>\n",
       "      <th>Restaurant_latitude</th>\n",
       "      <th>Restaurant_longitude</th>\n",
       "      <th>Delivery_location_latitude</th>\n",
       "      <th>Delivery_location_longitude</th>\n",
       "      <th>Order_Date</th>\n",
       "      <th>Time_Order_picked</th>\n",
       "      <th>Weather</th>\n",
       "      <th>Road_traffic_density</th>\n",
       "      <th>Vehicle_condition</th>\n",
       "      <th>Type_of_order</th>\n",
       "      <th>Type_of_vehicle</th>\n",
       "      <th>multiple_deliveries</th>\n",
       "      <th>Festival</th>\n",
       "      <th>City</th>\n",
       "      <th>Time_taken (min)</th>\n",
       "    </tr>\n",
       "  </thead>\n",
       "  <tbody>\n",
       "    <tr>\n",
       "      <th>0</th>\n",
       "      <td>0x5725</td>\n",
       "      <td>CHENRES13DEL03</td>\n",
       "      <td>30.0</td>\n",
       "      <td>4.7</td>\n",
       "      <td>13.027018</td>\n",
       "      <td>80.254791</td>\n",
       "      <td>13.087018</td>\n",
       "      <td>80.314791</td>\n",
       "      <td>21-03-2022</td>\n",
       "      <td>23:45</td>\n",
       "      <td>4</td>\n",
       "      <td>2</td>\n",
       "      <td>2</td>\n",
       "      <td>Buffet</td>\n",
       "      <td>scooter</td>\n",
       "      <td>0.0</td>\n",
       "      <td>0</td>\n",
       "      <td>Urban</td>\n",
       "      <td>10.0</td>\n",
       "    </tr>\n",
       "    <tr>\n",
       "      <th>1</th>\n",
       "      <td>0x98ff</td>\n",
       "      <td>RANCHIRES05DEL02</td>\n",
       "      <td>23.0</td>\n",
       "      <td>4.1</td>\n",
       "      <td>23.355164</td>\n",
       "      <td>85.324097</td>\n",
       "      <td>23.375164</td>\n",
       "      <td>85.344097</td>\n",
       "      <td>28-03-2022</td>\n",
       "      <td>8:50</td>\n",
       "      <td>3</td>\n",
       "      <td>2</td>\n",
       "      <td>0</td>\n",
       "      <td>Drinks</td>\n",
       "      <td>motorcycle</td>\n",
       "      <td>0.0</td>\n",
       "      <td>0</td>\n",
       "      <td>Metropolitian</td>\n",
       "      <td>18.0</td>\n",
       "    </tr>\n",
       "    <tr>\n",
       "      <th>2</th>\n",
       "      <td>0x1bfb</td>\n",
       "      <td>COIMBRES19DEL02</td>\n",
       "      <td>23.0</td>\n",
       "      <td>4.7</td>\n",
       "      <td>11.022298</td>\n",
       "      <td>76.998349</td>\n",
       "      <td>11.072298</td>\n",
       "      <td>77.048349</td>\n",
       "      <td>01-04-2022</td>\n",
       "      <td>21:55</td>\n",
       "      <td>1</td>\n",
       "      <td>1</td>\n",
       "      <td>1</td>\n",
       "      <td>Meal</td>\n",
       "      <td>motorcycle</td>\n",
       "      <td>0.0</td>\n",
       "      <td>0</td>\n",
       "      <td>Metropolitian</td>\n",
       "      <td>29.0</td>\n",
       "    </tr>\n",
       "    <tr>\n",
       "      <th>3</th>\n",
       "      <td>0x86ea</td>\n",
       "      <td>COIMBRES19DEL02</td>\n",
       "      <td>23.0</td>\n",
       "      <td>4.6</td>\n",
       "      <td>11.022298</td>\n",
       "      <td>76.998349</td>\n",
       "      <td>11.152298</td>\n",
       "      <td>77.128349</td>\n",
       "      <td>20-03-2022</td>\n",
       "      <td>22:55</td>\n",
       "      <td>1</td>\n",
       "      <td>2</td>\n",
       "      <td>0</td>\n",
       "      <td>Buffet</td>\n",
       "      <td>motorcycle</td>\n",
       "      <td>0.0</td>\n",
       "      <td>0</td>\n",
       "      <td>Urban</td>\n",
       "      <td>21.0</td>\n",
       "    </tr>\n",
       "    <tr>\n",
       "      <th>4</th>\n",
       "      <td>0xb04e</td>\n",
       "      <td>HYDRES19DEL01</td>\n",
       "      <td>25.0</td>\n",
       "      <td>5.0</td>\n",
       "      <td>17.458998</td>\n",
       "      <td>78.500366</td>\n",
       "      <td>17.468998</td>\n",
       "      <td>78.510366</td>\n",
       "      <td>03-03-2022</td>\n",
       "      <td>11:30</td>\n",
       "      <td>0</td>\n",
       "      <td>0</td>\n",
       "      <td>0</td>\n",
       "      <td>Snack</td>\n",
       "      <td>motorcycle</td>\n",
       "      <td>1.0</td>\n",
       "      <td>0</td>\n",
       "      <td>Urban</td>\n",
       "      <td>26.0</td>\n",
       "    </tr>\n",
       "  </tbody>\n",
       "</table>\n",
       "</div>"
      ],
      "text/plain": [
       "       ID Delivery_person_ID  Delivery_person_Age  Delivery_person_Ratings  \\\n",
       "0  0x5725     CHENRES13DEL03                 30.0                      4.7   \n",
       "1  0x98ff   RANCHIRES05DEL02                 23.0                      4.1   \n",
       "2  0x1bfb    COIMBRES19DEL02                 23.0                      4.7   \n",
       "3  0x86ea    COIMBRES19DEL02                 23.0                      4.6   \n",
       "4  0xb04e      HYDRES19DEL01                 25.0                      5.0   \n",
       "\n",
       "   Restaurant_latitude  Restaurant_longitude  Delivery_location_latitude  \\\n",
       "0            13.027018             80.254791                   13.087018   \n",
       "1            23.355164             85.324097                   23.375164   \n",
       "2            11.022298             76.998349                   11.072298   \n",
       "3            11.022298             76.998349                   11.152298   \n",
       "4            17.458998             78.500366                   17.468998   \n",
       "\n",
       "   Delivery_location_longitude  Order_Date Time_Order_picked Weather  \\\n",
       "0                    80.314791  21-03-2022             23:45       4   \n",
       "1                    85.344097  28-03-2022              8:50       3   \n",
       "2                    77.048349  01-04-2022             21:55       1   \n",
       "3                    77.128349  20-03-2022             22:55       1   \n",
       "4                    78.510366  03-03-2022             11:30       0   \n",
       "\n",
       "  Road_traffic_density  Vehicle_condition Type_of_order Type_of_vehicle  \\\n",
       "0                    2                  2        Buffet         scooter   \n",
       "1                    2                  0        Drinks      motorcycle   \n",
       "2                    1                  1          Meal      motorcycle   \n",
       "3                    2                  0        Buffet      motorcycle   \n",
       "4                    0                  0         Snack      motorcycle   \n",
       "\n",
       "   multiple_deliveries Festival           City  Time_taken (min)  \n",
       "0                  0.0        0          Urban              10.0  \n",
       "1                  0.0        0  Metropolitian              18.0  \n",
       "2                  0.0        0  Metropolitian              29.0  \n",
       "3                  0.0        0          Urban              21.0  \n",
       "4                  1.0        0          Urban              26.0  "
      ]
     },
     "execution_count": 28,
     "metadata": {},
     "output_type": "execute_result"
    }
   ],
   "source": [
    "df.head()"
   ]
  },
  {
   "cell_type": "markdown",
   "metadata": {},
   "source": [
    "* Delivery_person_ID too many features in it. using it increses dimensality"
   ]
  },
  {
   "cell_type": "code",
   "execution_count": 29,
   "metadata": {
    "execution": {
     "iopub.execute_input": "2022-09-04T09:39:15.959068Z",
     "iopub.status.busy": "2022-09-04T09:39:15.958811Z",
     "iopub.status.idle": "2022-09-04T09:39:15.974715Z",
     "shell.execute_reply": "2022-09-04T09:39:15.973841Z",
     "shell.execute_reply.started": "2022-09-04T09:39:15.959043Z"
    }
   },
   "outputs": [],
   "source": [
    "df.drop(['ID','Delivery_person_ID'],axis=1,inplace=True)"
   ]
  },
  {
   "cell_type": "code",
   "execution_count": 30,
   "metadata": {
    "execution": {
     "iopub.execute_input": "2022-09-04T09:39:15.976080Z",
     "iopub.status.busy": "2022-09-04T09:39:15.975819Z",
     "iopub.status.idle": "2022-09-04T09:39:16.327806Z",
     "shell.execute_reply": "2022-09-04T09:39:16.326927Z",
     "shell.execute_reply.started": "2022-09-04T09:39:15.976056Z"
    }
   },
   "outputs": [
    {
     "data": {
      "text/plain": [
       "0        13.027018\n",
       "1        23.355164\n",
       "2        11.022298\n",
       "3        11.022298\n",
       "4        17.458998\n",
       "           ...    \n",
       "45588    17.428294\n",
       "45589    12.986047\n",
       "45590    13.086438\n",
       "45591     0.000000\n",
       "45592     0.000000\n",
       "Length: 45593, dtype: float64"
      ]
     },
     "execution_count": 30,
     "metadata": {},
     "output_type": "execute_result"
    }
   ],
   "source": [
    "df[['Restaurant_latitude','Restaurant_longitude','Delivery_location_latitude','Delivery_location_longitude']].apply(lambda x: x[0], axis=1)"
   ]
  },
  {
   "cell_type": "code",
   "execution_count": 31,
   "metadata": {
    "execution": {
     "iopub.execute_input": "2022-09-04T09:39:16.329659Z",
     "iopub.status.busy": "2022-09-04T09:39:16.329286Z",
     "iopub.status.idle": "2022-09-04T09:39:17.174767Z",
     "shell.execute_reply": "2022-09-04T09:39:17.173778Z",
     "shell.execute_reply.started": "2022-09-04T09:39:16.329626Z"
    }
   },
   "outputs": [],
   "source": [
    "df['Distance']=df[['Restaurant_latitude','Restaurant_longitude','Delivery_location_latitude','Delivery_location_longitude']].apply(lambda x:hs.haversine((x[0],x[1]),(x[2],x[3])), axis=1)"
   ]
  },
  {
   "cell_type": "code",
   "execution_count": 32,
   "metadata": {
    "execution": {
     "iopub.execute_input": "2022-09-04T09:39:17.176608Z",
     "iopub.status.busy": "2022-09-04T09:39:17.176133Z",
     "iopub.status.idle": "2022-09-04T09:39:17.188373Z",
     "shell.execute_reply": "2022-09-04T09:39:17.187411Z",
     "shell.execute_reply.started": "2022-09-04T09:39:17.176571Z"
    }
   },
   "outputs": [],
   "source": [
    "df.drop(['Restaurant_latitude','Restaurant_longitude','Delivery_location_latitude','Delivery_location_longitude'],axis=1,inplace=True)"
   ]
  },
  {
   "cell_type": "code",
   "execution_count": 33,
   "metadata": {
    "execution": {
     "iopub.execute_input": "2022-09-04T09:39:17.190048Z",
     "iopub.status.busy": "2022-09-04T09:39:17.189715Z",
     "iopub.status.idle": "2022-09-04T09:39:17.211326Z",
     "shell.execute_reply": "2022-09-04T09:39:17.210323Z",
     "shell.execute_reply.started": "2022-09-04T09:39:17.190019Z"
    }
   },
   "outputs": [
    {
     "data": {
      "text/html": [
       "<div>\n",
       "<style scoped>\n",
       "    .dataframe tbody tr th:only-of-type {\n",
       "        vertical-align: middle;\n",
       "    }\n",
       "\n",
       "    .dataframe tbody tr th {\n",
       "        vertical-align: top;\n",
       "    }\n",
       "\n",
       "    .dataframe thead th {\n",
       "        text-align: right;\n",
       "    }\n",
       "</style>\n",
       "<table border=\"1\" class=\"dataframe\">\n",
       "  <thead>\n",
       "    <tr style=\"text-align: right;\">\n",
       "      <th></th>\n",
       "      <th>Delivery_person_Age</th>\n",
       "      <th>Delivery_person_Ratings</th>\n",
       "      <th>Order_Date</th>\n",
       "      <th>Time_Order_picked</th>\n",
       "      <th>Weather</th>\n",
       "      <th>Road_traffic_density</th>\n",
       "      <th>Vehicle_condition</th>\n",
       "      <th>Type_of_order</th>\n",
       "      <th>Type_of_vehicle</th>\n",
       "      <th>multiple_deliveries</th>\n",
       "      <th>Festival</th>\n",
       "      <th>City</th>\n",
       "      <th>Time_taken (min)</th>\n",
       "      <th>Distance</th>\n",
       "    </tr>\n",
       "  </thead>\n",
       "  <tbody>\n",
       "    <tr>\n",
       "      <th>0</th>\n",
       "      <td>30.0</td>\n",
       "      <td>4.7</td>\n",
       "      <td>21-03-2022</td>\n",
       "      <td>23:45</td>\n",
       "      <td>4</td>\n",
       "      <td>2</td>\n",
       "      <td>2</td>\n",
       "      <td>Buffet</td>\n",
       "      <td>scooter</td>\n",
       "      <td>0.0</td>\n",
       "      <td>0</td>\n",
       "      <td>Urban</td>\n",
       "      <td>10.0</td>\n",
       "      <td>9.314043</td>\n",
       "    </tr>\n",
       "    <tr>\n",
       "      <th>1</th>\n",
       "      <td>23.0</td>\n",
       "      <td>4.1</td>\n",
       "      <td>28-03-2022</td>\n",
       "      <td>8:50</td>\n",
       "      <td>3</td>\n",
       "      <td>2</td>\n",
       "      <td>0</td>\n",
       "      <td>Drinks</td>\n",
       "      <td>motorcycle</td>\n",
       "      <td>0.0</td>\n",
       "      <td>0</td>\n",
       "      <td>Metropolitian</td>\n",
       "      <td>18.0</td>\n",
       "      <td>3.018873</td>\n",
       "    </tr>\n",
       "    <tr>\n",
       "      <th>2</th>\n",
       "      <td>23.0</td>\n",
       "      <td>4.7</td>\n",
       "      <td>01-04-2022</td>\n",
       "      <td>21:55</td>\n",
       "      <td>1</td>\n",
       "      <td>1</td>\n",
       "      <td>1</td>\n",
       "      <td>Meal</td>\n",
       "      <td>motorcycle</td>\n",
       "      <td>0.0</td>\n",
       "      <td>0</td>\n",
       "      <td>Metropolitian</td>\n",
       "      <td>29.0</td>\n",
       "      <td>7.790170</td>\n",
       "    </tr>\n",
       "    <tr>\n",
       "      <th>3</th>\n",
       "      <td>23.0</td>\n",
       "      <td>4.6</td>\n",
       "      <td>20-03-2022</td>\n",
       "      <td>22:55</td>\n",
       "      <td>1</td>\n",
       "      <td>2</td>\n",
       "      <td>0</td>\n",
       "      <td>Buffet</td>\n",
       "      <td>motorcycle</td>\n",
       "      <td>0.0</td>\n",
       "      <td>0</td>\n",
       "      <td>Urban</td>\n",
       "      <td>21.0</td>\n",
       "      <td>20.253082</td>\n",
       "    </tr>\n",
       "    <tr>\n",
       "      <th>4</th>\n",
       "      <td>25.0</td>\n",
       "      <td>5.0</td>\n",
       "      <td>03-03-2022</td>\n",
       "      <td>11:30</td>\n",
       "      <td>0</td>\n",
       "      <td>0</td>\n",
       "      <td>0</td>\n",
       "      <td>Snack</td>\n",
       "      <td>motorcycle</td>\n",
       "      <td>1.0</td>\n",
       "      <td>0</td>\n",
       "      <td>Urban</td>\n",
       "      <td>26.0</td>\n",
       "      <td>1.536721</td>\n",
       "    </tr>\n",
       "  </tbody>\n",
       "</table>\n",
       "</div>"
      ],
      "text/plain": [
       "   Delivery_person_Age  Delivery_person_Ratings  Order_Date Time_Order_picked  \\\n",
       "0                 30.0                      4.7  21-03-2022             23:45   \n",
       "1                 23.0                      4.1  28-03-2022              8:50   \n",
       "2                 23.0                      4.7  01-04-2022             21:55   \n",
       "3                 23.0                      4.6  20-03-2022             22:55   \n",
       "4                 25.0                      5.0  03-03-2022             11:30   \n",
       "\n",
       "  Weather Road_traffic_density  Vehicle_condition Type_of_order  \\\n",
       "0       4                    2                  2        Buffet   \n",
       "1       3                    2                  0        Drinks   \n",
       "2       1                    1                  1          Meal   \n",
       "3       1                    2                  0        Buffet   \n",
       "4       0                    0                  0         Snack   \n",
       "\n",
       "  Type_of_vehicle  multiple_deliveries Festival           City  \\\n",
       "0         scooter                  0.0        0          Urban   \n",
       "1      motorcycle                  0.0        0  Metropolitian   \n",
       "2      motorcycle                  0.0        0  Metropolitian   \n",
       "3      motorcycle                  0.0        0          Urban   \n",
       "4      motorcycle                  1.0        0          Urban   \n",
       "\n",
       "   Time_taken (min)   Distance  \n",
       "0              10.0   9.314043  \n",
       "1              18.0   3.018873  \n",
       "2              29.0   7.790170  \n",
       "3              21.0  20.253082  \n",
       "4              26.0   1.536721  "
      ]
     },
     "execution_count": 33,
     "metadata": {},
     "output_type": "execute_result"
    }
   ],
   "source": [
    "df.head()"
   ]
  },
  {
   "cell_type": "code",
   "execution_count": 34,
   "metadata": {
    "execution": {
     "iopub.execute_input": "2022-09-04T09:39:17.213799Z",
     "iopub.status.busy": "2022-09-04T09:39:17.213378Z",
     "iopub.status.idle": "2022-09-04T09:39:17.231183Z",
     "shell.execute_reply": "2022-09-04T09:39:17.230377Z",
     "shell.execute_reply.started": "2022-09-04T09:39:17.213762Z"
    }
   },
   "outputs": [],
   "source": [
    "df.Order_Date = df.Order_Date.astype('datetime64[ns]')"
   ]
  },
  {
   "cell_type": "code",
   "execution_count": 35,
   "metadata": {
    "execution": {
     "iopub.execute_input": "2022-09-04T09:39:17.232893Z",
     "iopub.status.busy": "2022-09-04T09:39:17.232555Z",
     "iopub.status.idle": "2022-09-04T09:39:17.242990Z",
     "shell.execute_reply": "2022-09-04T09:39:17.242099Z",
     "shell.execute_reply.started": "2022-09-04T09:39:17.232860Z"
    }
   },
   "outputs": [],
   "source": [
    "df['Month'] = df.Order_Date.dt.month"
   ]
  },
  {
   "cell_type": "code",
   "execution_count": 36,
   "metadata": {
    "execution": {
     "iopub.execute_input": "2022-09-04T09:39:17.245735Z",
     "iopub.status.busy": "2022-09-04T09:39:17.244762Z",
     "iopub.status.idle": "2022-09-04T09:39:17.255434Z",
     "shell.execute_reply": "2022-09-04T09:39:17.254480Z",
     "shell.execute_reply.started": "2022-09-04T09:39:17.245700Z"
    }
   },
   "outputs": [],
   "source": [
    "df.drop('Order_Date',axis=1,inplace=True)"
   ]
  },
  {
   "cell_type": "code",
   "execution_count": 37,
   "metadata": {
    "execution": {
     "iopub.execute_input": "2022-09-04T09:39:17.257515Z",
     "iopub.status.busy": "2022-09-04T09:39:17.257151Z",
     "iopub.status.idle": "2022-09-04T09:39:17.263699Z",
     "shell.execute_reply": "2022-09-04T09:39:17.262678Z",
     "shell.execute_reply.started": "2022-09-04T09:39:17.257482Z"
    }
   },
   "outputs": [],
   "source": [
    "df['Month']= df['Month'].astype('object')"
   ]
  },
  {
   "cell_type": "code",
   "execution_count": 38,
   "metadata": {
    "execution": {
     "iopub.execute_input": "2022-09-04T09:39:17.266106Z",
     "iopub.status.busy": "2022-09-04T09:39:17.265612Z",
     "iopub.status.idle": "2022-09-04T09:39:17.288971Z",
     "shell.execute_reply": "2022-09-04T09:39:17.288025Z",
     "shell.execute_reply.started": "2022-09-04T09:39:17.265914Z"
    }
   },
   "outputs": [
    {
     "data": {
      "text/html": [
       "<div>\n",
       "<style scoped>\n",
       "    .dataframe tbody tr th:only-of-type {\n",
       "        vertical-align: middle;\n",
       "    }\n",
       "\n",
       "    .dataframe tbody tr th {\n",
       "        vertical-align: top;\n",
       "    }\n",
       "\n",
       "    .dataframe thead th {\n",
       "        text-align: right;\n",
       "    }\n",
       "</style>\n",
       "<table border=\"1\" class=\"dataframe\">\n",
       "  <thead>\n",
       "    <tr style=\"text-align: right;\">\n",
       "      <th></th>\n",
       "      <th>Delivery_person_Age</th>\n",
       "      <th>Delivery_person_Ratings</th>\n",
       "      <th>Time_Order_picked</th>\n",
       "      <th>Weather</th>\n",
       "      <th>Road_traffic_density</th>\n",
       "      <th>Vehicle_condition</th>\n",
       "      <th>Type_of_order</th>\n",
       "      <th>Type_of_vehicle</th>\n",
       "      <th>multiple_deliveries</th>\n",
       "      <th>Festival</th>\n",
       "      <th>City</th>\n",
       "      <th>Time_taken (min)</th>\n",
       "      <th>Distance</th>\n",
       "      <th>Month</th>\n",
       "    </tr>\n",
       "  </thead>\n",
       "  <tbody>\n",
       "    <tr>\n",
       "      <th>0</th>\n",
       "      <td>30.0</td>\n",
       "      <td>4.7</td>\n",
       "      <td>23:45</td>\n",
       "      <td>4</td>\n",
       "      <td>2</td>\n",
       "      <td>2</td>\n",
       "      <td>Buffet</td>\n",
       "      <td>scooter</td>\n",
       "      <td>0.0</td>\n",
       "      <td>0</td>\n",
       "      <td>Urban</td>\n",
       "      <td>10.0</td>\n",
       "      <td>9.314043</td>\n",
       "      <td>3</td>\n",
       "    </tr>\n",
       "    <tr>\n",
       "      <th>1</th>\n",
       "      <td>23.0</td>\n",
       "      <td>4.1</td>\n",
       "      <td>8:50</td>\n",
       "      <td>3</td>\n",
       "      <td>2</td>\n",
       "      <td>0</td>\n",
       "      <td>Drinks</td>\n",
       "      <td>motorcycle</td>\n",
       "      <td>0.0</td>\n",
       "      <td>0</td>\n",
       "      <td>Metropolitian</td>\n",
       "      <td>18.0</td>\n",
       "      <td>3.018873</td>\n",
       "      <td>3</td>\n",
       "    </tr>\n",
       "    <tr>\n",
       "      <th>2</th>\n",
       "      <td>23.0</td>\n",
       "      <td>4.7</td>\n",
       "      <td>21:55</td>\n",
       "      <td>1</td>\n",
       "      <td>1</td>\n",
       "      <td>1</td>\n",
       "      <td>Meal</td>\n",
       "      <td>motorcycle</td>\n",
       "      <td>0.0</td>\n",
       "      <td>0</td>\n",
       "      <td>Metropolitian</td>\n",
       "      <td>29.0</td>\n",
       "      <td>7.790170</td>\n",
       "      <td>1</td>\n",
       "    </tr>\n",
       "    <tr>\n",
       "      <th>3</th>\n",
       "      <td>23.0</td>\n",
       "      <td>4.6</td>\n",
       "      <td>22:55</td>\n",
       "      <td>1</td>\n",
       "      <td>2</td>\n",
       "      <td>0</td>\n",
       "      <td>Buffet</td>\n",
       "      <td>motorcycle</td>\n",
       "      <td>0.0</td>\n",
       "      <td>0</td>\n",
       "      <td>Urban</td>\n",
       "      <td>21.0</td>\n",
       "      <td>20.253082</td>\n",
       "      <td>3</td>\n",
       "    </tr>\n",
       "    <tr>\n",
       "      <th>4</th>\n",
       "      <td>25.0</td>\n",
       "      <td>5.0</td>\n",
       "      <td>11:30</td>\n",
       "      <td>0</td>\n",
       "      <td>0</td>\n",
       "      <td>0</td>\n",
       "      <td>Snack</td>\n",
       "      <td>motorcycle</td>\n",
       "      <td>1.0</td>\n",
       "      <td>0</td>\n",
       "      <td>Urban</td>\n",
       "      <td>26.0</td>\n",
       "      <td>1.536721</td>\n",
       "      <td>3</td>\n",
       "    </tr>\n",
       "  </tbody>\n",
       "</table>\n",
       "</div>"
      ],
      "text/plain": [
       "   Delivery_person_Age  Delivery_person_Ratings Time_Order_picked Weather  \\\n",
       "0                 30.0                      4.7             23:45       4   \n",
       "1                 23.0                      4.1              8:50       3   \n",
       "2                 23.0                      4.7             21:55       1   \n",
       "3                 23.0                      4.6             22:55       1   \n",
       "4                 25.0                      5.0             11:30       0   \n",
       "\n",
       "  Road_traffic_density  Vehicle_condition Type_of_order Type_of_vehicle  \\\n",
       "0                    2                  2        Buffet         scooter   \n",
       "1                    2                  0        Drinks      motorcycle   \n",
       "2                    1                  1          Meal      motorcycle   \n",
       "3                    2                  0        Buffet      motorcycle   \n",
       "4                    0                  0         Snack      motorcycle   \n",
       "\n",
       "   multiple_deliveries Festival           City  Time_taken (min)   Distance  \\\n",
       "0                  0.0        0          Urban              10.0   9.314043   \n",
       "1                  0.0        0  Metropolitian              18.0   3.018873   \n",
       "2                  0.0        0  Metropolitian              29.0   7.790170   \n",
       "3                  0.0        0          Urban              21.0  20.253082   \n",
       "4                  1.0        0          Urban              26.0   1.536721   \n",
       "\n",
       "  Month  \n",
       "0     3  \n",
       "1     3  \n",
       "2     1  \n",
       "3     3  \n",
       "4     3  "
      ]
     },
     "execution_count": 38,
     "metadata": {},
     "output_type": "execute_result"
    }
   ],
   "source": [
    "df.head()"
   ]
  },
  {
   "cell_type": "code",
   "execution_count": 39,
   "metadata": {
    "execution": {
     "iopub.execute_input": "2022-09-04T09:39:17.290831Z",
     "iopub.status.busy": "2022-09-04T09:39:17.290463Z",
     "iopub.status.idle": "2022-09-04T09:39:17.350267Z",
     "shell.execute_reply": "2022-09-04T09:39:17.349468Z",
     "shell.execute_reply.started": "2022-09-04T09:39:17.290795Z"
    }
   },
   "outputs": [],
   "source": [
    "df.Time_Order_picked = df.Time_Order_picked.apply(lambda x: 'Morning' if (int(x.split(':')[0]) < 12 and int(x.split(':')[0]) >8) else( 'Afternoon' if int(x.split(':')[0])<16 else( 'Evening' if int(x.split(':')[0]) < 19 else 'Night')))"
   ]
  },
  {
   "cell_type": "code",
   "execution_count": 40,
   "metadata": {
    "execution": {
     "iopub.execute_input": "2022-09-04T09:39:17.352428Z",
     "iopub.status.busy": "2022-09-04T09:39:17.351447Z",
     "iopub.status.idle": "2022-09-04T09:39:17.561155Z",
     "shell.execute_reply": "2022-09-04T09:39:17.560213Z",
     "shell.execute_reply.started": "2022-09-04T09:39:17.352393Z"
    }
   },
   "outputs": [
    {
     "name": "stderr",
     "output_type": "stream",
     "text": [
      "/opt/conda/lib/python3.7/site-packages/seaborn/_decorators.py:43: FutureWarning: Pass the following variable as a keyword arg: x. From version 0.12, the only valid positional argument will be `data`, and passing other arguments without an explicit keyword will result in an error or misinterpretation.\n",
      "  FutureWarning\n"
     ]
    },
    {
     "data": {
      "text/plain": [
       "<AxesSubplot:xlabel='Time_Order_picked', ylabel='count'>"
      ]
     },
     "execution_count": 40,
     "metadata": {},
     "output_type": "execute_result"
    },
    {
     "data": {
      "image/png": "[encoded data removed]",
      "text/plain": [
       "<Figure size 432x288 with 1 Axes>"
      ]
     },
     "metadata": {
      "needs_background": "light"
     },
     "output_type": "display_data"
    }
   ],
   "source": [
    "sns.countplot(df.Time_Order_picked )"
   ]
  },
  {
   "cell_type": "code",
   "execution_count": 41,
   "metadata": {
    "execution": {
     "iopub.execute_input": "2022-09-04T09:39:17.563802Z",
     "iopub.status.busy": "2022-09-04T09:39:17.563148Z",
     "iopub.status.idle": "2022-09-04T09:39:17.582659Z",
     "shell.execute_reply": "2022-09-04T09:39:17.581695Z",
     "shell.execute_reply.started": "2022-09-04T09:39:17.563763Z"
    }
   },
   "outputs": [
    {
     "data": {
      "text/html": [
       "<div>\n",
       "<style scoped>\n",
       "    .dataframe tbody tr th:only-of-type {\n",
       "        vertical-align: middle;\n",
       "    }\n",
       "\n",
       "    .dataframe tbody tr th {\n",
       "        vertical-align: top;\n",
       "    }\n",
       "\n",
       "    .dataframe thead th {\n",
       "        text-align: right;\n",
       "    }\n",
       "</style>\n",
       "<table border=\"1\" class=\"dataframe\">\n",
       "  <thead>\n",
       "    <tr style=\"text-align: right;\">\n",
       "      <th></th>\n",
       "      <th>Delivery_person_Age</th>\n",
       "      <th>Delivery_person_Ratings</th>\n",
       "      <th>Time_Order_picked</th>\n",
       "      <th>Weather</th>\n",
       "      <th>Road_traffic_density</th>\n",
       "      <th>Vehicle_condition</th>\n",
       "      <th>Type_of_order</th>\n",
       "      <th>Type_of_vehicle</th>\n",
       "      <th>multiple_deliveries</th>\n",
       "      <th>Festival</th>\n",
       "      <th>City</th>\n",
       "      <th>Time_taken (min)</th>\n",
       "      <th>Distance</th>\n",
       "      <th>Month</th>\n",
       "    </tr>\n",
       "  </thead>\n",
       "  <tbody>\n",
       "    <tr>\n",
       "      <th>0</th>\n",
       "      <td>30.0</td>\n",
       "      <td>4.7</td>\n",
       "      <td>Night</td>\n",
       "      <td>4</td>\n",
       "      <td>2</td>\n",
       "      <td>2</td>\n",
       "      <td>Buffet</td>\n",
       "      <td>scooter</td>\n",
       "      <td>0.0</td>\n",
       "      <td>0</td>\n",
       "      <td>Urban</td>\n",
       "      <td>10.0</td>\n",
       "      <td>9.314043</td>\n",
       "      <td>3</td>\n",
       "    </tr>\n",
       "    <tr>\n",
       "      <th>1</th>\n",
       "      <td>23.0</td>\n",
       "      <td>4.1</td>\n",
       "      <td>Afternoon</td>\n",
       "      <td>3</td>\n",
       "      <td>2</td>\n",
       "      <td>0</td>\n",
       "      <td>Drinks</td>\n",
       "      <td>motorcycle</td>\n",
       "      <td>0.0</td>\n",
       "      <td>0</td>\n",
       "      <td>Metropolitian</td>\n",
       "      <td>18.0</td>\n",
       "      <td>3.018873</td>\n",
       "      <td>3</td>\n",
       "    </tr>\n",
       "    <tr>\n",
       "      <th>2</th>\n",
       "      <td>23.0</td>\n",
       "      <td>4.7</td>\n",
       "      <td>Night</td>\n",
       "      <td>1</td>\n",
       "      <td>1</td>\n",
       "      <td>1</td>\n",
       "      <td>Meal</td>\n",
       "      <td>motorcycle</td>\n",
       "      <td>0.0</td>\n",
       "      <td>0</td>\n",
       "      <td>Metropolitian</td>\n",
       "      <td>29.0</td>\n",
       "      <td>7.790170</td>\n",
       "      <td>1</td>\n",
       "    </tr>\n",
       "    <tr>\n",
       "      <th>3</th>\n",
       "      <td>23.0</td>\n",
       "      <td>4.6</td>\n",
       "      <td>Night</td>\n",
       "      <td>1</td>\n",
       "      <td>2</td>\n",
       "      <td>0</td>\n",
       "      <td>Buffet</td>\n",
       "      <td>motorcycle</td>\n",
       "      <td>0.0</td>\n",
       "      <td>0</td>\n",
       "      <td>Urban</td>\n",
       "      <td>21.0</td>\n",
       "      <td>20.253082</td>\n",
       "      <td>3</td>\n",
       "    </tr>\n",
       "    <tr>\n",
       "      <th>4</th>\n",
       "      <td>25.0</td>\n",
       "      <td>5.0</td>\n",
       "      <td>Morning</td>\n",
       "      <td>0</td>\n",
       "      <td>0</td>\n",
       "      <td>0</td>\n",
       "      <td>Snack</td>\n",
       "      <td>motorcycle</td>\n",
       "      <td>1.0</td>\n",
       "      <td>0</td>\n",
       "      <td>Urban</td>\n",
       "      <td>26.0</td>\n",
       "      <td>1.536721</td>\n",
       "      <td>3</td>\n",
       "    </tr>\n",
       "  </tbody>\n",
       "</table>\n",
       "</div>"
      ],
      "text/plain": [
       "   Delivery_person_Age  Delivery_person_Ratings Time_Order_picked Weather  \\\n",
       "0                 30.0                      4.7             Night       4   \n",
       "1                 23.0                      4.1         Afternoon       3   \n",
       "2                 23.0                      4.7             Night       1   \n",
       "3                 23.0                      4.6             Night       1   \n",
       "4                 25.0                      5.0           Morning       0   \n",
       "\n",
       "  Road_traffic_density  Vehicle_condition Type_of_order Type_of_vehicle  \\\n",
       "0                    2                  2        Buffet         scooter   \n",
       "1                    2                  0        Drinks      motorcycle   \n",
       "2                    1                  1          Meal      motorcycle   \n",
       "3                    2                  0        Buffet      motorcycle   \n",
       "4                    0                  0         Snack      motorcycle   \n",
       "\n",
       "   multiple_deliveries Festival           City  Time_taken (min)   Distance  \\\n",
       "0                  0.0        0          Urban              10.0   9.314043   \n",
       "1                  0.0        0  Metropolitian              18.0   3.018873   \n",
       "2                  0.0        0  Metropolitian              29.0   7.790170   \n",
       "3                  0.0        0          Urban              21.0  20.253082   \n",
       "4                  1.0        0          Urban              26.0   1.536721   \n",
       "\n",
       "  Month  \n",
       "0     3  \n",
       "1     3  \n",
       "2     1  \n",
       "3     3  \n",
       "4     3  "
      ]
     },
     "execution_count": 41,
     "metadata": {},
     "output_type": "execute_result"
    }
   ],
   "source": [
    "df.head()"
   ]
  },
  {
   "cell_type": "code",
   "execution_count": 42,
   "metadata": {
    "execution": {
     "iopub.execute_input": "2022-09-04T09:39:17.584957Z",
     "iopub.status.busy": "2022-09-04T09:39:17.583901Z",
     "iopub.status.idle": "2022-09-04T09:39:17.595562Z",
     "shell.execute_reply": "2022-09-04T09:39:17.594400Z",
     "shell.execute_reply.started": "2022-09-04T09:39:17.584922Z"
    }
   },
   "outputs": [],
   "source": [
    "df.multiple_deliveries = df.multiple_deliveries.astype(int)\n",
    "df.multiple_deliveries = df.multiple_deliveries.astype('category')"
   ]
  },
  {
   "cell_type": "code",
   "execution_count": 43,
   "metadata": {
    "execution": {
     "iopub.execute_input": "2022-09-04T09:39:17.598043Z",
     "iopub.status.busy": "2022-09-04T09:39:17.597091Z",
     "iopub.status.idle": "2022-09-04T09:39:17.603436Z",
     "shell.execute_reply": "2022-09-04T09:39:17.602205Z",
     "shell.execute_reply.started": "2022-09-04T09:39:17.598007Z"
    }
   },
   "outputs": [],
   "source": [
    "unique_col =[]\n",
    "bool_col = []\n",
    "cat_col = []\n",
    "cont_col =[]"
   ]
  },
  {
   "cell_type": "code",
   "execution_count": 44,
   "metadata": {
    "execution": {
     "iopub.execute_input": "2022-09-04T09:39:17.605688Z",
     "iopub.status.busy": "2022-09-04T09:39:17.604744Z",
     "iopub.status.idle": "2022-09-04T09:39:17.644176Z",
     "shell.execute_reply": "2022-09-04T09:39:17.643319Z",
     "shell.execute_reply.started": "2022-09-04T09:39:17.605642Z"
    }
   },
   "outputs": [],
   "source": [
    "for i in df.drop('Time_taken (min)',axis=1).columns:\n",
    "    unique_count = df[i].nunique()\n",
    "    if ( unique_count ==1):\n",
    "        unique_col.append(i)\n",
    "    elif( unique_count ==2 ):\n",
    "        bool_col.append(i)\n",
    "    elif unique_count < 25:\n",
    "        cat_col.append(i)\n",
    "    else :\n",
    "        cont_col.append(i)"
   ]
  },
  {
   "cell_type": "code",
   "execution_count": 45,
   "metadata": {
    "execution": {
     "iopub.execute_input": "2022-09-04T09:39:17.645829Z",
     "iopub.status.busy": "2022-09-04T09:39:17.645410Z",
     "iopub.status.idle": "2022-09-04T09:39:17.651957Z",
     "shell.execute_reply": "2022-09-04T09:39:17.650887Z",
     "shell.execute_reply.started": "2022-09-04T09:39:17.645795Z"
    }
   },
   "outputs": [
    {
     "name": "stdout",
     "output_type": "stream",
     "text": [
      "Unique columns in data are []\n",
      " \n",
      "Boolean columns in data are ['Festival']\n",
      " \n",
      "Catagorical columns in data are ['Time_Order_picked', 'Weather', 'Road_traffic_density', 'Vehicle_condition', 'Type_of_order', 'Type_of_vehicle', 'multiple_deliveries', 'City', 'Month']\n",
      " \n",
      "Continuious columns in data are ['Delivery_person_Age', 'Delivery_person_Ratings', 'Distance']\n",
      " \n"
     ]
    }
   ],
   "source": [
    "print(\"Unique columns in data are\",unique_col,end='\\n \\n')\n",
    "print(\"Boolean columns in data are\",bool_col,end='\\n \\n')\n",
    "print(\"Catagorical columns in data are\",cat_col,end='\\n \\n')\n",
    "print(\"Continuious columns in data are\",cont_col,end='\\n \\n')"
   ]
  },
  {
   "cell_type": "code",
   "execution_count": 46,
   "metadata": {
    "execution": {
     "iopub.execute_input": "2022-09-04T09:39:17.654520Z",
     "iopub.status.busy": "2022-09-04T09:39:17.653645Z",
     "iopub.status.idle": "2022-09-04T09:39:17.673619Z",
     "shell.execute_reply": "2022-09-04T09:39:17.672491Z",
     "shell.execute_reply.started": "2022-09-04T09:39:17.654484Z"
    }
   },
   "outputs": [
    {
     "data": {
      "text/html": [
       "<div>\n",
       "<style scoped>\n",
       "    .dataframe tbody tr th:only-of-type {\n",
       "        vertical-align: middle;\n",
       "    }\n",
       "\n",
       "    .dataframe tbody tr th {\n",
       "        vertical-align: top;\n",
       "    }\n",
       "\n",
       "    .dataframe thead th {\n",
       "        text-align: right;\n",
       "    }\n",
       "</style>\n",
       "<table border=\"1\" class=\"dataframe\">\n",
       "  <thead>\n",
       "    <tr style=\"text-align: right;\">\n",
       "      <th></th>\n",
       "      <th>Time_Order_picked</th>\n",
       "      <th>Weather</th>\n",
       "      <th>Road_traffic_density</th>\n",
       "      <th>Vehicle_condition</th>\n",
       "      <th>Type_of_order</th>\n",
       "      <th>Type_of_vehicle</th>\n",
       "      <th>multiple_deliveries</th>\n",
       "      <th>City</th>\n",
       "      <th>Month</th>\n",
       "    </tr>\n",
       "  </thead>\n",
       "  <tbody>\n",
       "    <tr>\n",
       "      <th>0</th>\n",
       "      <td>Night</td>\n",
       "      <td>4</td>\n",
       "      <td>2</td>\n",
       "      <td>2</td>\n",
       "      <td>Buffet</td>\n",
       "      <td>scooter</td>\n",
       "      <td>0</td>\n",
       "      <td>Urban</td>\n",
       "      <td>3</td>\n",
       "    </tr>\n",
       "    <tr>\n",
       "      <th>1</th>\n",
       "      <td>Afternoon</td>\n",
       "      <td>3</td>\n",
       "      <td>2</td>\n",
       "      <td>0</td>\n",
       "      <td>Drinks</td>\n",
       "      <td>motorcycle</td>\n",
       "      <td>0</td>\n",
       "      <td>Metropolitian</td>\n",
       "      <td>3</td>\n",
       "    </tr>\n",
       "    <tr>\n",
       "      <th>2</th>\n",
       "      <td>Night</td>\n",
       "      <td>1</td>\n",
       "      <td>1</td>\n",
       "      <td>1</td>\n",
       "      <td>Meal</td>\n",
       "      <td>motorcycle</td>\n",
       "      <td>0</td>\n",
       "      <td>Metropolitian</td>\n",
       "      <td>1</td>\n",
       "    </tr>\n",
       "    <tr>\n",
       "      <th>3</th>\n",
       "      <td>Night</td>\n",
       "      <td>1</td>\n",
       "      <td>2</td>\n",
       "      <td>0</td>\n",
       "      <td>Buffet</td>\n",
       "      <td>motorcycle</td>\n",
       "      <td>0</td>\n",
       "      <td>Urban</td>\n",
       "      <td>3</td>\n",
       "    </tr>\n",
       "    <tr>\n",
       "      <th>4</th>\n",
       "      <td>Morning</td>\n",
       "      <td>0</td>\n",
       "      <td>0</td>\n",
       "      <td>0</td>\n",
       "      <td>Snack</td>\n",
       "      <td>motorcycle</td>\n",
       "      <td>1</td>\n",
       "      <td>Urban</td>\n",
       "      <td>3</td>\n",
       "    </tr>\n",
       "  </tbody>\n",
       "</table>\n",
       "</div>"
      ],
      "text/plain": [
       "  Time_Order_picked Weather Road_traffic_density  Vehicle_condition  \\\n",
       "0             Night       4                    2                  2   \n",
       "1         Afternoon       3                    2                  0   \n",
       "2             Night       1                    1                  1   \n",
       "3             Night       1                    2                  0   \n",
       "4           Morning       0                    0                  0   \n",
       "\n",
       "  Type_of_order Type_of_vehicle multiple_deliveries           City Month  \n",
       "0        Buffet         scooter                   0          Urban     3  \n",
       "1        Drinks      motorcycle                   0  Metropolitian     3  \n",
       "2          Meal      motorcycle                   0  Metropolitian     1  \n",
       "3        Buffet      motorcycle                   0          Urban     3  \n",
       "4         Snack      motorcycle                   1          Urban     3  "
      ]
     },
     "execution_count": 46,
     "metadata": {},
     "output_type": "execute_result"
    }
   ],
   "source": [
    "df[cat_col].head()"
   ]
  },
  {
   "cell_type": "code",
   "execution_count": 47,
   "metadata": {
    "execution": {
     "iopub.execute_input": "2022-09-04T09:39:17.675690Z",
     "iopub.status.busy": "2022-09-04T09:39:17.674727Z",
     "iopub.status.idle": "2022-09-04T09:39:17.721480Z",
     "shell.execute_reply": "2022-09-04T09:39:17.720635Z",
     "shell.execute_reply.started": "2022-09-04T09:39:17.675654Z"
    }
   },
   "outputs": [],
   "source": [
    "df[cat_col] = df[cat_col].astype('category')"
   ]
  },
  {
   "cell_type": "markdown",
   "metadata": {},
   "source": [
    "# Hyper parameter tuning"
   ]
  },
  {
   "cell_type": "code",
   "execution_count": 48,
   "metadata": {
    "execution": {
     "iopub.execute_input": "2022-09-04T09:39:17.723577Z",
     "iopub.status.busy": "2022-09-04T09:39:17.723191Z",
     "iopub.status.idle": "2022-09-04T09:39:17.734430Z",
     "shell.execute_reply": "2022-09-04T09:39:17.733536Z",
     "shell.execute_reply.started": "2022-09-04T09:39:17.723542Z"
    }
   },
   "outputs": [],
   "source": [
    "def objective(trial):\n",
    "    train_x, test_x, train_y, test_y = train_test_split(df.drop('Time_taken (min)',axis=1),df['Time_taken (min)'],test_size=0.15,random_state=42)\n",
    "    \n",
    "    param = {\n",
    "        'eval_metric': 'RMSE', \n",
    "        'n_estimators': trial.suggest_int('n_estimators',500,9000),\n",
    "        'learning_rate': trial.suggest_float('learning_rate', 0.001,0.2 ),\n",
    "        'depth' : trial.suggest_int('depth', 9, 15),\n",
    "        'l2_leaf_reg' : trial.suggest_loguniform('l2_leaf_reg', 1e-3, 10.0),\n",
    "        'random_strength' : trial.suggest_float('random_strength',0.2,0.8),\n",
    "        'bagging_temperature':trial.suggest_loguniform('bagging_temperature',0.03,0.8),\n",
    "        'border_count': 254,\n",
    "        'cat_features':cat_col,\n",
    "        'od_type' : 'Iter',\n",
    "        'use_best_model': True,\n",
    "        'task_type' : 'GPU',\n",
    "        'random_state' : 42,\n",
    "        'logging_level' : 'Silent'\n",
    "    }\n",
    "                                                        \n",
    "    model = CatBoostRegressor(**param)  \n",
    "    model.set_params(early_stopping_rounds=100)\n",
    "    model.fit(train_x,train_y,eval_set=[(test_x,test_y)],verbose=1000)\n",
    "    \n",
    "    preds = model.predict(test_x)\n",
    "    \n",
    "    mse = mean_squared_error(test_y, preds,squared=True)\n",
    "    \n",
    "    return mse"
   ]
  },
  {
   "cell_type": "code",
   "execution_count": 49,
   "metadata": {
    "execution": {
     "iopub.execute_input": "2022-09-04T09:39:17.736881Z",
     "iopub.status.busy": "2022-09-04T09:39:17.736189Z",
     "iopub.status.idle": "2022-09-04T12:03:03.287522Z",
     "shell.execute_reply": "2022-09-04T12:03:03.286403Z",
     "shell.execute_reply.started": "2022-09-04T09:39:17.736847Z"
    }
   },
   "outputs": [
    {
     "name": "stderr",
     "output_type": "stream",
     "text": [
      "\u001b[32m[I 2022-09-04 09:39:17,743]\u001b[0m A new study created in memory with name: no-name-c8c5bc0a-7e65-4dc5-bd8b-8c7f64c44fc0\u001b[0m\n",
      "/opt/conda/lib/python3.7/site-packages/optuna/progress_bar.py:47: ExperimentalWarning: Progress bar is experimental (supported from v1.2.0). The interface can change in the future.\n",
      "  self._init_valid()\n"
     ]
    },
    {
     "data": {
      "application/vnd.jupyter.widget-view+json": {
       "model_id": "274258a8275f419f8a434582f31d8746",
       "version_major": 2,
       "version_minor": 0
      },
      "text/plain": [
       "0it [00:00, ?it/s]"
      ]
     },
     "metadata": {},
     "output_type": "display_data"
    },
    {
     "name": "stdout",
     "output_type": "stream",
     "text": [
      "\u001b[32m[I 2022-09-04 09:43:47,834]\u001b[0m Trial 0 finished with value: 14.6996025311846 and parameters: {'n_estimators': 4443, 'learning_rate': 0.08211344222111697, 'depth': 10, 'l2_leaf_reg': 0.03989497847443306, 'random_strength': 0.7256397053081882, 'bagging_temperature': 0.5051084021636925}. Best is trial 0 with value: 14.6996025311846.\u001b[0m\n",
      "\u001b[32m[I 2022-09-04 09:55:16,812]\u001b[0m Trial 1 finished with value: 14.696923572549112 and parameters: {'n_estimators': 6855, 'learning_rate': 0.07089255025379998, 'depth': 15, 'l2_leaf_reg': 0.006804572878344884, 'random_strength': 0.7501544940035574, 'bagging_temperature': 0.7552965718084396}. Best is trial 1 with value: 14.696923572549112.\u001b[0m\n",
      "\u001b[32m[I 2022-09-04 10:03:40,936]\u001b[0m Trial 2 finished with value: 14.664474150557135 and parameters: {'n_estimators': 4129, 'learning_rate': 0.03303037192812596, 'depth': 14, 'l2_leaf_reg': 0.23308914959188204, 'random_strength': 0.5809142341719788, 'bagging_temperature': 0.10870445013006544}. Best is trial 2 with value: 14.664474150557135.\u001b[0m\n",
      "\u001b[32m[I 2022-09-04 10:06:10,012]\u001b[0m Trial 3 finished with value: 14.759934869980103 and parameters: {'n_estimators': 2265, 'learning_rate': 0.19674376006472236, 'depth': 9, 'l2_leaf_reg': 0.14759159571400496, 'random_strength': 0.5464502558672801, 'bagging_temperature': 0.2646704964677921}. Best is trial 2 with value: 14.664474150557135.\u001b[0m\n",
      "\u001b[32m[I 2022-09-04 10:10:06,452]\u001b[0m Trial 4 finished with value: 14.770308221332906 and parameters: {'n_estimators': 7967, 'learning_rate': 0.1766779827173669, 'depth': 14, 'l2_leaf_reg': 0.42539589613274104, 'random_strength': 0.7722508109838835, 'bagging_temperature': 0.2769087468652428}. Best is trial 2 with value: 14.664474150557135.\u001b[0m\n",
      "\u001b[32m[I 2022-09-04 10:10:30,631]\u001b[0m Trial 5 finished with value: 14.906410786067596 and parameters: {'n_estimators': 8861, 'learning_rate': 0.08184906804243064, 'depth': 9, 'l2_leaf_reg': 0.00252856620430458, 'random_strength': 0.43533195408555986, 'bagging_temperature': 0.56075721068186}. Best is trial 2 with value: 14.664474150557135.\u001b[0m\n",
      "\u001b[32m[I 2022-09-04 10:14:09,810]\u001b[0m Trial 6 finished with value: 14.669524850380661 and parameters: {'n_estimators': 1521, 'learning_rate': 0.11495215524289065, 'depth': 12, 'l2_leaf_reg': 0.1349483761036288, 'random_strength': 0.7852591215369298, 'bagging_temperature': 0.05768572769915934}. Best is trial 2 with value: 14.664474150557135.\u001b[0m\n",
      "\u001b[32m[I 2022-09-04 10:36:40,010]\u001b[0m Trial 7 finished with value: 14.627618480249431 and parameters: {'n_estimators': 5995, 'learning_rate': 0.03597071544427109, 'depth': 14, 'l2_leaf_reg': 1.3789417363578491, 'random_strength': 0.35942721484812107, 'bagging_temperature': 0.081110656191858}. Best is trial 7 with value: 14.627618480249431.\u001b[0m\n",
      "\u001b[32m[I 2022-09-04 10:42:45,307]\u001b[0m Trial 8 finished with value: 14.649822642265105 and parameters: {'n_estimators': 7098, 'learning_rate': 0.017760643603656808, 'depth': 12, 'l2_leaf_reg': 0.015925087115224505, 'random_strength': 0.28342468547353933, 'bagging_temperature': 0.0826994190790295}. Best is trial 7 with value: 14.627618480249431.\u001b[0m\n",
      "\u001b[32m[I 2022-09-04 10:47:48,199]\u001b[0m Trial 9 finished with value: 14.631843732600364 and parameters: {'n_estimators': 7847, 'learning_rate': 0.06712581957724603, 'depth': 14, 'l2_leaf_reg': 0.007453310154111341, 'random_strength': 0.5198231735784064, 'bagging_temperature': 0.05769853919437606}. Best is trial 7 with value: 14.627618480249431.\u001b[0m\n",
      "\u001b[32m[I 2022-09-04 10:49:17,449]\u001b[0m Trial 10 finished with value: 14.635355094321175 and parameters: {'n_estimators': 5691, 'learning_rate': 0.1377641321247407, 'depth': 11, 'l2_leaf_reg': 5.976524238904457, 'random_strength': 0.27770322034098893, 'bagging_temperature': 0.04136060312288818}. Best is trial 7 with value: 14.627618480249431.\u001b[0m\n",
      "\u001b[32m[I 2022-09-04 11:08:43,664]\u001b[0m Trial 11 finished with value: 14.626256697284564 and parameters: {'n_estimators': 6353, 'learning_rate': 0.047072525361608594, 'depth': 14, 'l2_leaf_reg': 2.827770573809599, 'random_strength': 0.40896588584613663, 'bagging_temperature': 0.04352510921200916}. Best is trial 11 with value: 14.626256697284564.\u001b[0m\n",
      "\u001b[32m[I 2022-09-04 12:03:03,276]\u001b[0m Trial 12 finished with value: 14.588319600300132 and parameters: {'n_estimators': 5600, 'learning_rate': 0.04144747481231018, 'depth': 15, 'l2_leaf_reg': 2.8862273654780424, 'random_strength': 0.4039222562811846, 'bagging_temperature': 0.03152895581074059}. Best is trial 12 with value: 14.588319600300132.\u001b[0m\n",
      "Number of finished trials: 13\n",
      "Best trial: {'n_estimators': 5600, 'learning_rate': 0.04144747481231018, 'depth': 15, 'l2_leaf_reg': 2.8862273654780424, 'random_strength': 0.4039222562811846, 'bagging_temperature': 0.03152895581074059}\n"
     ]
    }
   ],
   "source": [
    "study = optuna.create_study(direction='minimize')\n",
    "study.optimize(objective,show_progress_bar=True,timeout=7200)\n",
    "print('Number of finished trials:', len(study.trials))\n",
    "print('Best trial:', study.best_trial.params)"
   ]
  },
  {
   "cell_type": "code",
   "execution_count": 51,
   "metadata": {
    "execution": {
     "iopub.execute_input": "2022-09-04T12:09:16.444406Z",
     "iopub.status.busy": "2022-09-04T12:09:16.443743Z",
     "iopub.status.idle": "2022-09-04T12:09:16.449841Z",
     "shell.execute_reply": "2022-09-04T12:09:16.448677Z",
     "shell.execute_reply.started": "2022-09-04T12:09:16.444341Z"
    }
   },
   "outputs": [],
   "source": [
    "params = {'n_estimators': 5600, 'learning_rate': 0.04144747481231018, 'depth': 15, 'l2_leaf_reg': 2.8862273654780424, 'random_strength': 0.4039222562811846, 'bagging_temperature': 0.03152895581074059}"
   ]
  },
  {
   "cell_type": "code",
   "execution_count": 53,
   "metadata": {
    "execution": {
     "iopub.execute_input": "2022-09-04T12:11:17.601917Z",
     "iopub.status.busy": "2022-09-04T12:11:17.601282Z",
     "iopub.status.idle": "2022-09-04T12:11:17.606841Z",
     "shell.execute_reply": "2022-09-04T12:11:17.605676Z",
     "shell.execute_reply.started": "2022-09-04T12:11:17.601881Z"
    }
   },
   "outputs": [],
   "source": [
    "model = CatBoostRegressor(**params,border_count=254,cat_features=cat_col,od_type='Iter',task_type='GPU',random_state=42,logging_level= 'Silent')"
   ]
  },
  {
   "cell_type": "code",
   "execution_count": 54,
   "metadata": {
    "execution": {
     "iopub.execute_input": "2022-09-04T12:12:02.493238Z",
     "iopub.status.busy": "2022-09-04T12:12:02.492879Z",
     "iopub.status.idle": "2022-09-04T15:09:22.416592Z",
     "shell.execute_reply": "2022-09-04T15:09:22.415529Z",
     "shell.execute_reply.started": "2022-09-04T12:12:02.493207Z"
    }
   },
   "outputs": [
    {
     "data": {
      "text/plain": [
       "<catboost.core.CatBoostRegressor at 0x7fba50c09fd0>"
      ]
     },
     "execution_count": 54,
     "metadata": {},
     "output_type": "execute_result"
    }
   ],
   "source": [
    "model.fit(df.drop('Time_taken (min)',axis=1),df['Time_taken (min)'])"
   ]
  },
  {
   "cell_type": "markdown",
   "metadata": {},
   "source": [
    "# Test Dataset"
   ]
  },
  {
   "cell_type": "code",
   "execution_count": 57,
   "metadata": {
    "execution": {
     "iopub.execute_input": "2022-09-04T15:14:40.515310Z",
     "iopub.status.busy": "2022-09-04T15:14:40.514735Z",
     "iopub.status.idle": "2022-09-04T15:14:40.572995Z",
     "shell.execute_reply": "2022-09-04T15:14:40.571928Z",
     "shell.execute_reply.started": "2022-09-04T15:14:40.515273Z"
    }
   },
   "outputs": [
    {
     "data": {
      "text/html": [
       "<div>\n",
       "<style scoped>\n",
       "    .dataframe tbody tr th:only-of-type {\n",
       "        vertical-align: middle;\n",
       "    }\n",
       "\n",
       "    .dataframe tbody tr th {\n",
       "        vertical-align: top;\n",
       "    }\n",
       "\n",
       "    .dataframe thead th {\n",
       "        text-align: right;\n",
       "    }\n",
       "</style>\n",
       "<table border=\"1\" class=\"dataframe\">\n",
       "  <thead>\n",
       "    <tr style=\"text-align: right;\">\n",
       "      <th></th>\n",
       "      <th>ID</th>\n",
       "      <th>Delivery_person_ID</th>\n",
       "      <th>Delivery_person_Age</th>\n",
       "      <th>Delivery_person_Ratings</th>\n",
       "      <th>Restaurant_latitude</th>\n",
       "      <th>Restaurant_longitude</th>\n",
       "      <th>Delivery_location_latitude</th>\n",
       "      <th>Delivery_location_longitude</th>\n",
       "      <th>Order_Date</th>\n",
       "      <th>Time_Orderd</th>\n",
       "      <th>Time_Order_picked</th>\n",
       "      <th>Weather</th>\n",
       "      <th>Road_traffic_density</th>\n",
       "      <th>Vehicle_condition</th>\n",
       "      <th>Type_of_order</th>\n",
       "      <th>Type_of_vehicle</th>\n",
       "      <th>multiple_deliveries</th>\n",
       "      <th>Festival</th>\n",
       "      <th>City</th>\n",
       "    </tr>\n",
       "  </thead>\n",
       "  <tbody>\n",
       "    <tr>\n",
       "      <th>0</th>\n",
       "      <td>0x3a80</td>\n",
       "      <td>BANGRES15DEL02</td>\n",
       "      <td>32.0</td>\n",
       "      <td>4.9</td>\n",
       "      <td>12.975377</td>\n",
       "      <td>77.696664</td>\n",
       "      <td>13.055377</td>\n",
       "      <td>77.776664</td>\n",
       "      <td>20-03-2022</td>\n",
       "      <td>23:25</td>\n",
       "      <td>23:40</td>\n",
       "      <td>Sandstorms</td>\n",
       "      <td>Low</td>\n",
       "      <td>2</td>\n",
       "      <td>Drinks</td>\n",
       "      <td>scooter</td>\n",
       "      <td>1.0</td>\n",
       "      <td>No</td>\n",
       "      <td>Metropolitian</td>\n",
       "    </tr>\n",
       "    <tr>\n",
       "      <th>1</th>\n",
       "      <td>0x4e2d</td>\n",
       "      <td>INDORES01DEL01</td>\n",
       "      <td>32.0</td>\n",
       "      <td>4.8</td>\n",
       "      <td>22.695207</td>\n",
       "      <td>75.866059</td>\n",
       "      <td>22.735207</td>\n",
       "      <td>75.906059</td>\n",
       "      <td>26-03-2022</td>\n",
       "      <td>14:40</td>\n",
       "      <td>14:55</td>\n",
       "      <td>Windy</td>\n",
       "      <td>High</td>\n",
       "      <td>1</td>\n",
       "      <td>Meal</td>\n",
       "      <td>scooter</td>\n",
       "      <td>1.0</td>\n",
       "      <td>No</td>\n",
       "      <td>Urban</td>\n",
       "    </tr>\n",
       "    <tr>\n",
       "      <th>2</th>\n",
       "      <td>0x4ba7</td>\n",
       "      <td>COIMBRES17DEL01</td>\n",
       "      <td>39.0</td>\n",
       "      <td>3.6</td>\n",
       "      <td>11.026117</td>\n",
       "      <td>76.944652</td>\n",
       "      <td>11.096117</td>\n",
       "      <td>77.014652</td>\n",
       "      <td>02-03-2022</td>\n",
       "      <td>20:55</td>\n",
       "      <td>21:05</td>\n",
       "      <td>Sunny</td>\n",
       "      <td>Jam</td>\n",
       "      <td>2</td>\n",
       "      <td>Meal</td>\n",
       "      <td>motorcycle</td>\n",
       "      <td>1.0</td>\n",
       "      <td>No</td>\n",
       "      <td>Metropolitian</td>\n",
       "    </tr>\n",
       "    <tr>\n",
       "      <th>3</th>\n",
       "      <td>0x1f09</td>\n",
       "      <td>CHENRES010DEL01</td>\n",
       "      <td>33.0</td>\n",
       "      <td>4.1</td>\n",
       "      <td>13.066762</td>\n",
       "      <td>80.251865</td>\n",
       "      <td>13.136762</td>\n",
       "      <td>80.321865</td>\n",
       "      <td>20-03-2022</td>\n",
       "      <td>18:20</td>\n",
       "      <td>18:30</td>\n",
       "      <td>Sunny</td>\n",
       "      <td>Medium</td>\n",
       "      <td>0</td>\n",
       "      <td>Drinks</td>\n",
       "      <td>motorcycle</td>\n",
       "      <td>2.0</td>\n",
       "      <td>No</td>\n",
       "      <td>Metropolitian</td>\n",
       "    </tr>\n",
       "    <tr>\n",
       "      <th>4</th>\n",
       "      <td>0x547</td>\n",
       "      <td>MYSRES11DEL03</td>\n",
       "      <td>NaN</td>\n",
       "      <td>NaN</td>\n",
       "      <td>-12.323225</td>\n",
       "      <td>76.630028</td>\n",
       "      <td>12.383225</td>\n",
       "      <td>76.690028</td>\n",
       "      <td>05-03-2022</td>\n",
       "      <td>NaN</td>\n",
       "      <td>22:15</td>\n",
       "      <td>NaN</td>\n",
       "      <td>NaN</td>\n",
       "      <td>0</td>\n",
       "      <td>Meal</td>\n",
       "      <td>motorcycle</td>\n",
       "      <td>1.0</td>\n",
       "      <td>No</td>\n",
       "      <td>Metropolitian</td>\n",
       "    </tr>\n",
       "  </tbody>\n",
       "</table>\n",
       "</div>"
      ],
      "text/plain": [
       "       ID Delivery_person_ID  Delivery_person_Age  Delivery_person_Ratings  \\\n",
       "0  0x3a80     BANGRES15DEL02                 32.0                      4.9   \n",
       "1  0x4e2d     INDORES01DEL01                 32.0                      4.8   \n",
       "2  0x4ba7    COIMBRES17DEL01                 39.0                      3.6   \n",
       "3  0x1f09    CHENRES010DEL01                 33.0                      4.1   \n",
       "4   0x547      MYSRES11DEL03                  NaN                      NaN   \n",
       "\n",
       "   Restaurant_latitude  Restaurant_longitude  Delivery_location_latitude  \\\n",
       "0            12.975377             77.696664                   13.055377   \n",
       "1            22.695207             75.866059                   22.735207   \n",
       "2            11.026117             76.944652                   11.096117   \n",
       "3            13.066762             80.251865                   13.136762   \n",
       "4           -12.323225             76.630028                   12.383225   \n",
       "\n",
       "   Delivery_location_longitude  Order_Date Time_Orderd Time_Order_picked  \\\n",
       "0                    77.776664  20-03-2022       23:25             23:40   \n",
       "1                    75.906059  26-03-2022       14:40             14:55   \n",
       "2                    77.014652  02-03-2022       20:55             21:05   \n",
       "3                    80.321865  20-03-2022       18:20             18:30   \n",
       "4                    76.690028  05-03-2022         NaN             22:15   \n",
       "\n",
       "      Weather Road_traffic_density  Vehicle_condition Type_of_order  \\\n",
       "0  Sandstorms                  Low                  2        Drinks   \n",
       "1       Windy                 High                  1          Meal   \n",
       "2       Sunny                  Jam                  2          Meal   \n",
       "3       Sunny               Medium                  0        Drinks   \n",
       "4         NaN                  NaN                  0          Meal   \n",
       "\n",
       "  Type_of_vehicle  multiple_deliveries Festival           City  \n",
       "0         scooter                  1.0       No  Metropolitian  \n",
       "1         scooter                  1.0       No          Urban  \n",
       "2      motorcycle                  1.0       No  Metropolitian  \n",
       "3      motorcycle                  2.0       No  Metropolitian  \n",
       "4      motorcycle                  1.0       No  Metropolitian  "
      ]
     },
     "execution_count": 57,
     "metadata": {},
     "output_type": "execute_result"
    }
   ],
   "source": [
    "test= pd.read_csv('test.csv')\n",
    "test.head()"
   ]
  },
  {
   "cell_type": "code",
   "execution_count": 60,
   "metadata": {
    "execution": {
     "iopub.execute_input": "2022-09-04T15:16:20.283173Z",
     "iopub.status.busy": "2022-09-04T15:16:20.282813Z",
     "iopub.status.idle": "2022-09-04T15:16:23.167287Z",
     "shell.execute_reply": "2022-09-04T15:16:23.166295Z",
     "shell.execute_reply.started": "2022-09-04T15:16:20.283143Z"
    }
   },
   "outputs": [],
   "source": [
    "test[['Delivery_person_Ratings','Delivery_person_Age','multiple_deliveries']] = knn_imputer.transform(test[['Delivery_person_Ratings','Delivery_person_Age','multiple_deliveries']])"
   ]
  },
  {
   "cell_type": "code",
   "execution_count": 61,
   "metadata": {
    "execution": {
     "iopub.execute_input": "2022-09-04T15:17:31.966494Z",
     "iopub.status.busy": "2022-09-04T15:17:31.965520Z",
     "iopub.status.idle": "2022-09-04T15:17:31.994606Z",
     "shell.execute_reply": "2022-09-04T15:17:31.993288Z",
     "shell.execute_reply.started": "2022-09-04T15:17:31.966458Z"
    }
   },
   "outputs": [
    {
     "data": {
      "text/html": [
       "<div>\n",
       "<style scoped>\n",
       "    .dataframe tbody tr th:only-of-type {\n",
       "        vertical-align: middle;\n",
       "    }\n",
       "\n",
       "    .dataframe tbody tr th {\n",
       "        vertical-align: top;\n",
       "    }\n",
       "\n",
       "    .dataframe thead th {\n",
       "        text-align: right;\n",
       "    }\n",
       "</style>\n",
       "<table border=\"1\" class=\"dataframe\">\n",
       "  <thead>\n",
       "    <tr style=\"text-align: right;\">\n",
       "      <th></th>\n",
       "      <th>Sum</th>\n",
       "      <th>Percentage</th>\n",
       "    </tr>\n",
       "  </thead>\n",
       "  <tbody>\n",
       "    <tr>\n",
       "      <th>Time_Orderd</th>\n",
       "      <td>444</td>\n",
       "      <td>3.895079</td>\n",
       "    </tr>\n",
       "    <tr>\n",
       "      <th>City</th>\n",
       "      <td>324</td>\n",
       "      <td>2.842355</td>\n",
       "    </tr>\n",
       "    <tr>\n",
       "      <th>Weather</th>\n",
       "      <td>158</td>\n",
       "      <td>1.386086</td>\n",
       "    </tr>\n",
       "    <tr>\n",
       "      <th>Road_traffic_density</th>\n",
       "      <td>154</td>\n",
       "      <td>1.350996</td>\n",
       "    </tr>\n",
       "    <tr>\n",
       "      <th>Festival</th>\n",
       "      <td>65</td>\n",
       "      <td>0.570225</td>\n",
       "    </tr>\n",
       "  </tbody>\n",
       "</table>\n",
       "</div>"
      ],
      "text/plain": [
       "                      Sum  Percentage\n",
       "Time_Orderd           444    3.895079\n",
       "City                  324    2.842355\n",
       "Weather               158    1.386086\n",
       "Road_traffic_density  154    1.350996\n",
       "Festival               65    0.570225"
      ]
     },
     "execution_count": 61,
     "metadata": {},
     "output_type": "execute_result"
    }
   ],
   "source": [
    "Missing = pd.DataFrame()\n",
    "Missing['Sum'] = test.isna().sum()\n",
    "Missing['Percentage'] = test.isna().mean() * 100\n",
    "Missing= Missing[Missing['Sum'] > 0 ].sort_values(ascending=False,by='Sum')\n",
    "Missing"
   ]
  },
  {
   "cell_type": "code",
   "execution_count": 62,
   "metadata": {
    "execution": {
     "iopub.execute_input": "2022-09-04T15:18:33.487539Z",
     "iopub.status.busy": "2022-09-04T15:18:33.487161Z",
     "iopub.status.idle": "2022-09-04T15:18:33.497334Z",
     "shell.execute_reply": "2022-09-04T15:18:33.494522Z",
     "shell.execute_reply.started": "2022-09-04T15:18:33.487504Z"
    }
   },
   "outputs": [],
   "source": [
    "test.City = test.City.apply(lambda x: 'other' if x not in ('Urban','Metropolitian') else x )"
   ]
  },
  {
   "cell_type": "code",
   "execution_count": 63,
   "metadata": {
    "execution": {
     "iopub.execute_input": "2022-09-04T15:20:27.029002Z",
     "iopub.status.busy": "2022-09-04T15:20:27.027992Z",
     "iopub.status.idle": "2022-09-04T15:20:27.045103Z",
     "shell.execute_reply": "2022-09-04T15:20:27.044120Z",
     "shell.execute_reply.started": "2022-09-04T15:20:27.028953Z"
    }
   },
   "outputs": [
    {
     "data": {
      "text/html": [
       "<div>\n",
       "<style scoped>\n",
       "    .dataframe tbody tr th:only-of-type {\n",
       "        vertical-align: middle;\n",
       "    }\n",
       "\n",
       "    .dataframe tbody tr th {\n",
       "        vertical-align: top;\n",
       "    }\n",
       "\n",
       "    .dataframe thead th {\n",
       "        text-align: right;\n",
       "    }\n",
       "</style>\n",
       "<table border=\"1\" class=\"dataframe\">\n",
       "  <thead>\n",
       "    <tr style=\"text-align: right;\">\n",
       "      <th></th>\n",
       "      <th>Weather</th>\n",
       "      <th>Road_traffic_density</th>\n",
       "      <th>Festival</th>\n",
       "    </tr>\n",
       "  </thead>\n",
       "  <tbody>\n",
       "    <tr>\n",
       "      <th>0</th>\n",
       "      <td>True</td>\n",
       "      <td>True</td>\n",
       "      <td>True</td>\n",
       "    </tr>\n",
       "    <tr>\n",
       "      <th>1</th>\n",
       "      <td>True</td>\n",
       "      <td>True</td>\n",
       "      <td>True</td>\n",
       "    </tr>\n",
       "    <tr>\n",
       "      <th>2</th>\n",
       "      <td>True</td>\n",
       "      <td>True</td>\n",
       "      <td>True</td>\n",
       "    </tr>\n",
       "    <tr>\n",
       "      <th>3</th>\n",
       "      <td>True</td>\n",
       "      <td>True</td>\n",
       "      <td>True</td>\n",
       "    </tr>\n",
       "    <tr>\n",
       "      <th>4</th>\n",
       "      <td>False</td>\n",
       "      <td>False</td>\n",
       "      <td>True</td>\n",
       "    </tr>\n",
       "  </tbody>\n",
       "</table>\n",
       "</div>"
      ],
      "text/plain": [
       "   Weather  Road_traffic_density  Festival\n",
       "0     True                  True      True\n",
       "1     True                  True      True\n",
       "2     True                  True      True\n",
       "3     True                  True      True\n",
       "4    False                 False      True"
      ]
     },
     "execution_count": 63,
     "metadata": {},
     "output_type": "execute_result"
    }
   ],
   "source": [
    "# taking snapshot bakup of what are non missing values\n",
    "missing_snapshot = test[['Weather','Road_traffic_density','Festival']].isna()\n",
    "missing_snapshot = ~missing_snapshot\n",
    "missing_snapshot.head()"
   ]
  },
  {
   "cell_type": "code",
   "execution_count": 69,
   "metadata": {
    "execution": {
     "iopub.execute_input": "2022-09-04T15:25:08.252384Z",
     "iopub.status.busy": "2022-09-04T15:25:08.252015Z",
     "iopub.status.idle": "2022-09-04T15:25:08.273859Z",
     "shell.execute_reply": "2022-09-04T15:25:08.270994Z",
     "shell.execute_reply.started": "2022-09-04T15:25:08.252336Z"
    }
   },
   "outputs": [],
   "source": [
    "test['Weather'] =enc1.transform(test['Weather'])\n",
    "test['Road_traffic_density'] =enc2.transform(test['Road_traffic_density'])\n",
    "test['Festival'] =enc3.transform(test['Festival'])"
   ]
  },
  {
   "cell_type": "code",
   "execution_count": 70,
   "metadata": {
    "execution": {
     "iopub.execute_input": "2022-09-04T15:25:50.123523Z",
     "iopub.status.busy": "2022-09-04T15:25:50.123057Z",
     "iopub.status.idle": "2022-09-04T15:25:50.158594Z",
     "shell.execute_reply": "2022-09-04T15:25:50.157602Z",
     "shell.execute_reply.started": "2022-09-04T15:25:50.123483Z"
    }
   },
   "outputs": [
    {
     "data": {
      "text/html": [
       "<div>\n",
       "<style scoped>\n",
       "    .dataframe tbody tr th:only-of-type {\n",
       "        vertical-align: middle;\n",
       "    }\n",
       "\n",
       "    .dataframe tbody tr th {\n",
       "        vertical-align: top;\n",
       "    }\n",
       "\n",
       "    .dataframe thead th {\n",
       "        text-align: right;\n",
       "    }\n",
       "</style>\n",
       "<table border=\"1\" class=\"dataframe\">\n",
       "  <thead>\n",
       "    <tr style=\"text-align: right;\">\n",
       "      <th></th>\n",
       "      <th>Weather</th>\n",
       "      <th>Road_traffic_density</th>\n",
       "      <th>Festival</th>\n",
       "    </tr>\n",
       "  </thead>\n",
       "  <tbody>\n",
       "    <tr>\n",
       "      <th>0</th>\n",
       "      <td>2.0</td>\n",
       "      <td>2.0</td>\n",
       "      <td>0.0</td>\n",
       "    </tr>\n",
       "    <tr>\n",
       "      <th>1</th>\n",
       "      <td>5.0</td>\n",
       "      <td>0.0</td>\n",
       "      <td>0.0</td>\n",
       "    </tr>\n",
       "    <tr>\n",
       "      <th>2</th>\n",
       "      <td>4.0</td>\n",
       "      <td>1.0</td>\n",
       "      <td>0.0</td>\n",
       "    </tr>\n",
       "    <tr>\n",
       "      <th>3</th>\n",
       "      <td>4.0</td>\n",
       "      <td>3.0</td>\n",
       "      <td>0.0</td>\n",
       "    </tr>\n",
       "    <tr>\n",
       "      <th>4</th>\n",
       "      <td>NaN</td>\n",
       "      <td>NaN</td>\n",
       "      <td>0.0</td>\n",
       "    </tr>\n",
       "  </tbody>\n",
       "</table>\n",
       "</div>"
      ],
      "text/plain": [
       "   Weather  Road_traffic_density  Festival\n",
       "0      2.0                   2.0       0.0\n",
       "1      5.0                   0.0       0.0\n",
       "2      4.0                   1.0       0.0\n",
       "3      4.0                   3.0       0.0\n",
       "4      NaN                   NaN       0.0"
      ]
     },
     "execution_count": 70,
     "metadata": {},
     "output_type": "execute_result"
    }
   ],
   "source": [
    "test[['Weather','Road_traffic_density','Festival']] = test[['Weather','Road_traffic_density','Festival']][missing_snapshot]\n",
    "test[['Weather','Road_traffic_density','Festival']].head()"
   ]
  },
  {
   "cell_type": "code",
   "execution_count": 71,
   "metadata": {
    "execution": {
     "iopub.execute_input": "2022-09-04T15:26:23.013482Z",
     "iopub.status.busy": "2022-09-04T15:26:23.013085Z",
     "iopub.status.idle": "2022-09-04T15:26:23.875680Z",
     "shell.execute_reply": "2022-09-04T15:26:23.874714Z",
     "shell.execute_reply.started": "2022-09-04T15:26:23.013448Z"
    }
   },
   "outputs": [],
   "source": [
    "test[['Weather','Road_traffic_density','Festival']] = knn_cat.transform(test[['Weather','Road_traffic_density','Festival']])"
   ]
  },
  {
   "cell_type": "code",
   "execution_count": 72,
   "metadata": {
    "execution": {
     "iopub.execute_input": "2022-09-04T15:27:00.381506Z",
     "iopub.status.busy": "2022-09-04T15:27:00.380767Z",
     "iopub.status.idle": "2022-09-04T15:27:00.393216Z",
     "shell.execute_reply": "2022-09-04T15:27:00.392196Z",
     "shell.execute_reply.started": "2022-09-04T15:27:00.381467Z"
    }
   },
   "outputs": [],
   "source": [
    "test[['Weather','Road_traffic_density','Festival']] = test[['Weather','Road_traffic_density','Festival']].astype(int)\n",
    "test[['Weather','Road_traffic_density','Festival']] = test[['Weather','Road_traffic_density','Festival']].astype(object)"
   ]
  },
  {
   "cell_type": "code",
   "execution_count": 73,
   "metadata": {
    "execution": {
     "iopub.execute_input": "2022-09-04T15:28:49.790188Z",
     "iopub.status.busy": "2022-09-04T15:28:49.789585Z",
     "iopub.status.idle": "2022-09-04T15:28:50.028490Z",
     "shell.execute_reply": "2022-09-04T15:28:50.027213Z",
     "shell.execute_reply.started": "2022-09-04T15:28:49.790143Z"
    }
   },
   "outputs": [],
   "source": [
    "test['Distance']=test[['Restaurant_latitude','Restaurant_longitude','Delivery_location_latitude','Delivery_location_longitude']].apply(lambda x:hs.haversine((x[0],x[1]),(x[2],x[3])), axis=1)\n",
    "test.drop(['Restaurant_latitude','Restaurant_longitude','Delivery_location_latitude','Delivery_location_longitude'],axis=1,inplace=True)"
   ]
  },
  {
   "cell_type": "code",
   "execution_count": 74,
   "metadata": {
    "execution": {
     "iopub.execute_input": "2022-09-04T15:29:58.784700Z",
     "iopub.status.busy": "2022-09-04T15:29:58.784255Z",
     "iopub.status.idle": "2022-09-04T15:29:58.804686Z",
     "shell.execute_reply": "2022-09-04T15:29:58.803833Z",
     "shell.execute_reply.started": "2022-09-04T15:29:58.784663Z"
    }
   },
   "outputs": [],
   "source": [
    "test.Order_Date = test.Order_Date.astype('datetime64[ns]')\n",
    "test['Month'] = test.Order_Date.dt.month\n",
    "test.drop('Order_Date',axis=1,inplace=True)\n",
    "test['Month']= test['Month'].astype('object')"
   ]
  },
  {
   "cell_type": "code",
   "execution_count": 75,
   "metadata": {
    "execution": {
     "iopub.execute_input": "2022-09-04T15:30:41.010791Z",
     "iopub.status.busy": "2022-09-04T15:30:41.009969Z",
     "iopub.status.idle": "2022-09-04T15:30:41.032842Z",
     "shell.execute_reply": "2022-09-04T15:30:41.031835Z",
     "shell.execute_reply.started": "2022-09-04T15:30:41.010755Z"
    }
   },
   "outputs": [],
   "source": [
    "test.Time_Order_picked = test.Time_Order_picked.apply(lambda x: 'Morning' if (int(x.split(':')[0]) < 12 and int(x.split(':')[0]) >8) else( 'Afternoon' if int(x.split(':')[0])<16 else( 'Evening' if int(x.split(':')[0]) < 19 else 'Night')))"
   ]
  },
  {
   "cell_type": "code",
   "execution_count": 76,
   "metadata": {
    "execution": {
     "iopub.execute_input": "2022-09-04T15:32:51.178978Z",
     "iopub.status.busy": "2022-09-04T15:32:51.178385Z",
     "iopub.status.idle": "2022-09-04T15:32:51.186816Z",
     "shell.execute_reply": "2022-09-04T15:32:51.185763Z",
     "shell.execute_reply.started": "2022-09-04T15:32:51.178941Z"
    }
   },
   "outputs": [],
   "source": [
    "test.multiple_deliveries = test.multiple_deliveries.astype(int)\n",
    "test.multiple_deliveries = test.multiple_deliveries.astype('category')"
   ]
  },
  {
   "cell_type": "code",
   "execution_count": 77,
   "metadata": {
    "execution": {
     "iopub.execute_input": "2022-09-04T15:33:14.587113Z",
     "iopub.status.busy": "2022-09-04T15:33:14.586757Z",
     "iopub.status.idle": "2022-09-04T15:33:14.613576Z",
     "shell.execute_reply": "2022-09-04T15:33:14.612679Z",
     "shell.execute_reply.started": "2022-09-04T15:33:14.587083Z"
    }
   },
   "outputs": [],
   "source": [
    "test[cat_col] = test[cat_col].astype('category')"
   ]
  },
  {
   "cell_type": "code",
   "execution_count": null,
   "metadata": {},
   "outputs": [],
   "source": [
    "test.drop([''])"
   ]
  },
  {
   "cell_type": "code",
   "execution_count": 78,
   "metadata": {
    "execution": {
     "iopub.execute_input": "2022-09-04T15:33:37.374138Z",
     "iopub.status.busy": "2022-09-04T15:33:37.373723Z",
     "iopub.status.idle": "2022-09-04T15:33:37.429003Z",
     "shell.execute_reply": "2022-09-04T15:33:37.428062Z",
     "shell.execute_reply.started": "2022-09-04T15:33:37.374104Z"
    }
   },
   "outputs": [
    {
     "data": {
      "text/html": [
       "<div>\n",
       "<style scoped>\n",
       "    .dataframe tbody tr th:only-of-type {\n",
       "        vertical-align: middle;\n",
       "    }\n",
       "\n",
       "    .dataframe tbody tr th {\n",
       "        vertical-align: top;\n",
       "    }\n",
       "\n",
       "    .dataframe thead th {\n",
       "        text-align: right;\n",
       "    }\n",
       "</style>\n",
       "<table border=\"1\" class=\"dataframe\">\n",
       "  <thead>\n",
       "    <tr style=\"text-align: right;\">\n",
       "      <th></th>\n",
       "      <th>ID</th>\n",
       "      <th>Delivery_person_ID</th>\n",
       "      <th>Delivery_person_Age</th>\n",
       "      <th>Delivery_person_Ratings</th>\n",
       "      <th>Time_Orderd</th>\n",
       "      <th>Time_Order_picked</th>\n",
       "      <th>Weather</th>\n",
       "      <th>Road_traffic_density</th>\n",
       "      <th>Vehicle_condition</th>\n",
       "      <th>Type_of_order</th>\n",
       "      <th>Type_of_vehicle</th>\n",
       "      <th>multiple_deliveries</th>\n",
       "      <th>Festival</th>\n",
       "      <th>City</th>\n",
       "      <th>Distance</th>\n",
       "      <th>Month</th>\n",
       "    </tr>\n",
       "  </thead>\n",
       "  <tbody>\n",
       "    <tr>\n",
       "      <th>0</th>\n",
       "      <td>0x3a80</td>\n",
       "      <td>BANGRES15DEL02</td>\n",
       "      <td>32.0</td>\n",
       "      <td>4.9</td>\n",
       "      <td>23:25</td>\n",
       "      <td>Night</td>\n",
       "      <td>2</td>\n",
       "      <td>2</td>\n",
       "      <td>2</td>\n",
       "      <td>Drinks</td>\n",
       "      <td>scooter</td>\n",
       "      <td>1</td>\n",
       "      <td>0</td>\n",
       "      <td>Metropolitian</td>\n",
       "      <td>12.419742</td>\n",
       "      <td>3</td>\n",
       "    </tr>\n",
       "    <tr>\n",
       "      <th>1</th>\n",
       "      <td>0x4e2d</td>\n",
       "      <td>INDORES01DEL01</td>\n",
       "      <td>32.0</td>\n",
       "      <td>4.8</td>\n",
       "      <td>14:40</td>\n",
       "      <td>Afternoon</td>\n",
       "      <td>5</td>\n",
       "      <td>0</td>\n",
       "      <td>1</td>\n",
       "      <td>Meal</td>\n",
       "      <td>scooter</td>\n",
       "      <td>1</td>\n",
       "      <td>0</td>\n",
       "      <td>Urban</td>\n",
       "      <td>6.051117</td>\n",
       "      <td>3</td>\n",
       "    </tr>\n",
       "    <tr>\n",
       "      <th>2</th>\n",
       "      <td>0x4ba7</td>\n",
       "      <td>COIMBRES17DEL01</td>\n",
       "      <td>39.0</td>\n",
       "      <td>3.6</td>\n",
       "      <td>20:55</td>\n",
       "      <td>Night</td>\n",
       "      <td>4</td>\n",
       "      <td>1</td>\n",
       "      <td>2</td>\n",
       "      <td>Meal</td>\n",
       "      <td>motorcycle</td>\n",
       "      <td>1</td>\n",
       "      <td>0</td>\n",
       "      <td>Metropolitian</td>\n",
       "      <td>10.905985</td>\n",
       "      <td>2</td>\n",
       "    </tr>\n",
       "    <tr>\n",
       "      <th>3</th>\n",
       "      <td>0x1f09</td>\n",
       "      <td>CHENRES010DEL01</td>\n",
       "      <td>33.0</td>\n",
       "      <td>4.1</td>\n",
       "      <td>18:20</td>\n",
       "      <td>Evening</td>\n",
       "      <td>4</td>\n",
       "      <td>3</td>\n",
       "      <td>0</td>\n",
       "      <td>Drinks</td>\n",
       "      <td>motorcycle</td>\n",
       "      <td>2</td>\n",
       "      <td>0</td>\n",
       "      <td>Metropolitian</td>\n",
       "      <td>10.865424</td>\n",
       "      <td>3</td>\n",
       "    </tr>\n",
       "    <tr>\n",
       "      <th>4</th>\n",
       "      <td>0x547</td>\n",
       "      <td>MYSRES11DEL03</td>\n",
       "      <td>30.0</td>\n",
       "      <td>4.6</td>\n",
       "      <td>NaN</td>\n",
       "      <td>Night</td>\n",
       "      <td>3</td>\n",
       "      <td>2</td>\n",
       "      <td>0</td>\n",
       "      <td>Meal</td>\n",
       "      <td>motorcycle</td>\n",
       "      <td>1</td>\n",
       "      <td>0</td>\n",
       "      <td>Metropolitian</td>\n",
       "      <td>2747.243665</td>\n",
       "      <td>5</td>\n",
       "    </tr>\n",
       "  </tbody>\n",
       "</table>\n",
       "</div>"
      ],
      "text/plain": [
       "       ID Delivery_person_ID  Delivery_person_Age  Delivery_person_Ratings  \\\n",
       "0  0x3a80     BANGRES15DEL02                 32.0                      4.9   \n",
       "1  0x4e2d     INDORES01DEL01                 32.0                      4.8   \n",
       "2  0x4ba7    COIMBRES17DEL01                 39.0                      3.6   \n",
       "3  0x1f09    CHENRES010DEL01                 33.0                      4.1   \n",
       "4   0x547      MYSRES11DEL03                 30.0                      4.6   \n",
       "\n",
       "  Time_Orderd Time_Order_picked Weather Road_traffic_density  \\\n",
       "0       23:25             Night       2                    2   \n",
       "1       14:40         Afternoon       5                    0   \n",
       "2       20:55             Night       4                    1   \n",
       "3       18:20           Evening       4                    3   \n",
       "4         NaN             Night       3                    2   \n",
       "\n",
       "  Vehicle_condition Type_of_order Type_of_vehicle multiple_deliveries  \\\n",
       "0                 2        Drinks         scooter                   1   \n",
       "1                 1          Meal         scooter                   1   \n",
       "2                 2          Meal      motorcycle                   1   \n",
       "3                 0        Drinks      motorcycle                   2   \n",
       "4                 0          Meal      motorcycle                   1   \n",
       "\n",
       "  Festival           City     Distance Month  \n",
       "0        0  Metropolitian    12.419742     3  \n",
       "1        0          Urban     6.051117     3  \n",
       "2        0  Metropolitian    10.905985     2  \n",
       "3        0  Metropolitian    10.865424     3  \n",
       "4        0  Metropolitian  2747.243665     5  "
      ]
     },
     "execution_count": 78,
     "metadata": {},
     "output_type": "execute_result"
    }
   ],
   "source": [
    "test.head()"
   ]
  },
  {
   "cell_type": "code",
   "execution_count": 83,
   "metadata": {
    "execution": {
     "iopub.execute_input": "2022-09-04T15:40:11.809283Z",
     "iopub.status.busy": "2022-09-04T15:40:11.808661Z",
     "iopub.status.idle": "2022-09-04T15:40:11.817299Z",
     "shell.execute_reply": "2022-09-04T15:40:11.816218Z",
     "shell.execute_reply.started": "2022-09-04T15:40:11.809246Z"
    }
   },
   "outputs": [],
   "source": [
    "test.drop([\"Delivery_person_ID\",\"Time_Orderd\"],axis=1,inplace=True)"
   ]
  },
  {
   "cell_type": "markdown",
   "metadata": {},
   "source": [
    "# Model Prediction"
   ]
  },
  {
   "cell_type": "code",
   "execution_count": 82,
   "metadata": {
    "execution": {
     "iopub.execute_input": "2022-09-04T15:38:47.940321Z",
     "iopub.status.busy": "2022-09-04T15:38:47.939703Z",
     "iopub.status.idle": "2022-09-04T15:38:47.947561Z",
     "shell.execute_reply": "2022-09-04T15:38:47.946283Z",
     "shell.execute_reply.started": "2022-09-04T15:38:47.940284Z"
    }
   },
   "outputs": [],
   "source": [
    "submission = pd.DataFrame()\n",
    "submission['ID'] = test.ID "
   ]
  },
  {
   "cell_type": "code",
   "execution_count": 87,
   "metadata": {
    "execution": {
     "iopub.execute_input": "2022-09-04T15:47:04.189748Z",
     "iopub.status.busy": "2022-09-04T15:47:04.189376Z",
     "iopub.status.idle": "2022-09-04T15:47:04.613916Z",
     "shell.execute_reply": "2022-09-04T15:47:04.612776Z",
     "shell.execute_reply.started": "2022-09-04T15:47:04.189716Z"
    }
   },
   "outputs": [],
   "source": [
    "submission[\"Time_taken (min)\"] = np.round(model.predict(test.drop(\"ID\",axis=1)),1)"
   ]
  },
  {
   "cell_type": "code",
   "execution_count": 88,
   "metadata": {
    "execution": {
     "iopub.execute_input": "2022-09-04T15:47:05.951004Z",
     "iopub.status.busy": "2022-09-04T15:47:05.950319Z",
     "iopub.status.idle": "2022-09-04T15:47:05.962382Z",
     "shell.execute_reply": "2022-09-04T15:47:05.960812Z",
     "shell.execute_reply.started": "2022-09-04T15:47:05.950968Z"
    }
   },
   "outputs": [
    {
     "data": {
      "text/html": [
       "<div>\n",
       "<style scoped>\n",
       "    .dataframe tbody tr th:only-of-type {\n",
       "        vertical-align: middle;\n",
       "    }\n",
       "\n",
       "    .dataframe tbody tr th {\n",
       "        vertical-align: top;\n",
       "    }\n",
       "\n",
       "    .dataframe thead th {\n",
       "        text-align: right;\n",
       "    }\n",
       "</style>\n",
       "<table border=\"1\" class=\"dataframe\">\n",
       "  <thead>\n",
       "    <tr style=\"text-align: right;\">\n",
       "      <th></th>\n",
       "      <th>ID</th>\n",
       "      <th>Time_taken (min)</th>\n",
       "    </tr>\n",
       "  </thead>\n",
       "  <tbody>\n",
       "    <tr>\n",
       "      <th>0</th>\n",
       "      <td>0x3a80</td>\n",
       "      <td>22.4</td>\n",
       "    </tr>\n",
       "    <tr>\n",
       "      <th>1</th>\n",
       "      <td>0x4e2d</td>\n",
       "      <td>28.4</td>\n",
       "    </tr>\n",
       "    <tr>\n",
       "      <th>2</th>\n",
       "      <td>0x4ba7</td>\n",
       "      <td>32.5</td>\n",
       "    </tr>\n",
       "    <tr>\n",
       "      <th>3</th>\n",
       "      <td>0x1f09</td>\n",
       "      <td>37.3</td>\n",
       "    </tr>\n",
       "    <tr>\n",
       "      <th>4</th>\n",
       "      <td>0x547</td>\n",
       "      <td>24.5</td>\n",
       "    </tr>\n",
       "  </tbody>\n",
       "</table>\n",
       "</div>"
      ],
      "text/plain": [
       "       ID  Time_taken (min)\n",
       "0  0x3a80              22.4\n",
       "1  0x4e2d              28.4\n",
       "2  0x4ba7              32.5\n",
       "3  0x1f09              37.3\n",
       "4   0x547              24.5"
      ]
     },
     "execution_count": 88,
     "metadata": {},
     "output_type": "execute_result"
    }
   ],
   "source": [
    "submission.head()"
   ]
  },
  {
   "cell_type": "code",
   "execution_count": 90,
   "metadata": {
    "execution": {
     "iopub.execute_input": "2022-09-04T15:47:13.151279Z",
     "iopub.status.busy": "2022-09-04T15:47:13.150923Z",
     "iopub.status.idle": "2022-09-04T15:47:13.174480Z",
     "shell.execute_reply": "2022-09-04T15:47:13.173393Z",
     "shell.execute_reply.started": "2022-09-04T15:47:13.151246Z"
    }
   },
   "outputs": [],
   "source": [
    "submission.to_csv(\"submission02_catboost.csv\",index=False)"
   ]
  },
  {
   "cell_type": "code",
   "execution_count": null,
   "metadata": {},
   "outputs": [],
   "source": []
  }
 ],
 "metadata": {
  "kernelspec": {
   "display_name": "Python 3 (ipykernel)",
   "language": "python",
   "name": "python3"
  },
  "language_info": {
   "codemirror_mode": {
    "name": "ipython",
    "version": 3
   },
   "file_extension": ".py",
   "mimetype": "text/x-python",
   "name": "python",
   "nbconvert_exporter": "python",
   "pygments_lexer": "ipython3",
   "version": "3.9.12"
  }
 },
 "nbformat": 4,
 "nbformat_minor": 4
}
