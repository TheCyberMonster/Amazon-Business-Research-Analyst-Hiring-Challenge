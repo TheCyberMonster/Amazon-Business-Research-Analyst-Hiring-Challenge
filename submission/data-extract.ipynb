{
 "cells": [
  {
   "cell_type": "markdown",
   "id": "e013a553-6f23-4696-8f09-b88f459d5dd4",
   "metadata": {},
   "source": [
    "# Prepare Data"
   ]
  },
  {
   "cell_type": "markdown",
   "id": "2203d439-b39b-47d9-96e0-a1408968f34d",
   "metadata": {},
   "source": [
    "* we know the given data is in text format and need data in csv format "
   ]
  },
  {
   "cell_type": "code",
   "execution_count": 1,
   "id": "e5ae992d-337b-4d66-9419-46680bf56d65",
   "metadata": {},
   "outputs": [],
   "source": [
    "import numpy as np\n",
    "import pandas as pd\n",
    "import os "
   ]
  },
  {
   "cell_type": "code",
   "execution_count": 2,
   "id": "7631fccd-b3d6-46d6-8535-995debbe4522",
   "metadata": {},
   "outputs": [
    {
     "name": "stdout",
     "output_type": "stream",
     "text": [
      "ID                                     0x4607\n",
      "Delivery_person_ID             INDORES13DEL02\n",
      "Delivery_person_Age                 37.000000\n",
      "Delivery_person_Ratings              4.900000\n",
      "Restaurant_latitude                 22.745049\n",
      "Restaurant_longitude                75.892471\n",
      "Delivery_location_latitude          22.765049\n",
      "Delivery_location_longitude         75.912471\n",
      "Order_Date                         19-03-2022\n",
      "Time_Orderd                             11:30\n",
      "Time_Order_picked                       11:45\n",
      "Weather conditions                      Sunny\n",
      "Road_traffic_density                     High\n",
      "Vehicle_condition                           2\n",
      "Type_of_order                           Snack\n",
      "Type_of_vehicle                    motorcycle\n",
      "multiple_deliveries                  0.000000\n",
      "Festival                                   No\n",
      "City                                    Urban\n",
      "Time_taken (min)                    24.000000\n",
      "Name: 0, dtype: object\n"
     ]
    }
   ],
   "source": [
    "with open('train/0.txt') as f:\n",
    "    lines = f.read()\n",
    "    print(lines)"
   ]
  },
  {
   "cell_type": "code",
   "execution_count": 3,
   "id": "d21bf00a-c17a-4f02-94b4-2ac9483f9703",
   "metadata": {},
   "outputs": [],
   "source": [
    "# columns in a file are \n",
    "col= []"
   ]
  },
  {
   "cell_type": "code",
   "execution_count": 4,
   "id": "9da5e7b2-4d8b-4de7-b0fd-82d50843af2b",
   "metadata": {},
   "outputs": [],
   "source": [
    "with open('train/0.txt') as f:\n",
    "    lines = f.readlines()\n",
    "    for i in range(0,len(lines)-2):\n",
    "        lines[i] = str(lines[i]).replace('\\n','')\n",
    "        col.append(str(lines[i]).split()[0])"
   ]
  },
  {
   "cell_type": "code",
   "execution_count": 5,
   "id": "2b43a544-2b5b-4013-8808-6beae40175a5",
   "metadata": {},
   "outputs": [
    {
     "data": {
      "text/plain": [
       "['ID',\n",
       " 'Delivery_person_ID',\n",
       " 'Delivery_person_Age',\n",
       " 'Delivery_person_Ratings',\n",
       " 'Restaurant_latitude',\n",
       " 'Restaurant_longitude',\n",
       " 'Delivery_location_latitude',\n",
       " 'Delivery_location_longitude',\n",
       " 'Order_Date',\n",
       " 'Time_Orderd',\n",
       " 'Time_Order_picked',\n",
       " 'Weather',\n",
       " 'Road_traffic_density',\n",
       " 'Vehicle_condition',\n",
       " 'Type_of_order',\n",
       " 'Type_of_vehicle',\n",
       " 'multiple_deliveries',\n",
       " 'Festival',\n",
       " 'City']"
      ]
     },
     "execution_count": 5,
     "metadata": {},
     "output_type": "execute_result"
    }
   ],
   "source": [
    "col"
   ]
  },
  {
   "cell_type": "code",
   "execution_count": 6,
   "id": "92c2a0de-4a70-46c2-8977-778e99607d51",
   "metadata": {},
   "outputs": [],
   "source": [
    "col.append('Time_taken (min)')"
   ]
  },
  {
   "cell_type": "code",
   "execution_count": 7,
   "id": "d71c295a-c1c3-44f1-b29a-2c1660a84b46",
   "metadata": {},
   "outputs": [
    {
     "data": {
      "text/html": [
       "<div>\n",
       "<style scoped>\n",
       "    .dataframe tbody tr th:only-of-type {\n",
       "        vertical-align: middle;\n",
       "    }\n",
       "\n",
       "    .dataframe tbody tr th {\n",
       "        vertical-align: top;\n",
       "    }\n",
       "\n",
       "    .dataframe thead th {\n",
       "        text-align: right;\n",
       "    }\n",
       "</style>\n",
       "<table border=\"1\" class=\"dataframe\">\n",
       "  <thead>\n",
       "    <tr style=\"text-align: right;\">\n",
       "      <th></th>\n",
       "      <th>ID</th>\n",
       "      <th>Delivery_person_ID</th>\n",
       "      <th>Delivery_person_Age</th>\n",
       "      <th>Delivery_person_Ratings</th>\n",
       "      <th>Restaurant_latitude</th>\n",
       "      <th>Restaurant_longitude</th>\n",
       "      <th>Delivery_location_latitude</th>\n",
       "      <th>Delivery_location_longitude</th>\n",
       "      <th>Order_Date</th>\n",
       "      <th>Time_Orderd</th>\n",
       "      <th>Time_Order_picked</th>\n",
       "      <th>Weather</th>\n",
       "      <th>Road_traffic_density</th>\n",
       "      <th>Vehicle_condition</th>\n",
       "      <th>Type_of_order</th>\n",
       "      <th>Type_of_vehicle</th>\n",
       "      <th>multiple_deliveries</th>\n",
       "      <th>Festival</th>\n",
       "      <th>City</th>\n",
       "      <th>Time_taken (min)</th>\n",
       "    </tr>\n",
       "  </thead>\n",
       "  <tbody>\n",
       "  </tbody>\n",
       "</table>\n",
       "</div>"
      ],
      "text/plain": [
       "Empty DataFrame\n",
       "Columns: [ID, Delivery_person_ID, Delivery_person_Age, Delivery_person_Ratings, Restaurant_latitude, Restaurant_longitude, Delivery_location_latitude, Delivery_location_longitude, Order_Date, Time_Orderd, Time_Order_picked, Weather, Road_traffic_density, Vehicle_condition, Type_of_order, Type_of_vehicle, multiple_deliveries, Festival, City, Time_taken (min)]\n",
       "Index: []"
      ]
     },
     "execution_count": 7,
     "metadata": {},
     "output_type": "execute_result"
    }
   ],
   "source": [
    "df = pd.DataFrame(columns=col)\n",
    "df"
   ]
  },
  {
   "cell_type": "code",
   "execution_count": 8,
   "id": "fb66fb7f-1419-40c5-94b1-efbc6e61867c",
   "metadata": {},
   "outputs": [
    {
     "data": {
      "text/plain": [
       "(0, 20)"
      ]
     },
     "execution_count": 8,
     "metadata": {},
     "output_type": "execute_result"
    }
   ],
   "source": [
    "df.shape"
   ]
  },
  {
   "cell_type": "code",
   "execution_count": 9,
   "id": "17d785f2-382a-414f-8114-97da2e0d1fc6",
   "metadata": {},
   "outputs": [
    {
     "data": {
      "text/plain": [
       "45593"
      ]
     },
     "execution_count": 9,
     "metadata": {},
     "output_type": "execute_result"
    }
   ],
   "source": [
    "train_arr = os.listdir('train/')\n",
    "len(train_arr)"
   ]
  },
  {
   "cell_type": "code",
   "execution_count": 10,
   "id": "6d718324-6b4a-458e-829f-8a1c333084cd",
   "metadata": {},
   "outputs": [
    {
     "data": {
      "text/plain": [
       "11399"
      ]
     },
     "execution_count": 10,
     "metadata": {},
     "output_type": "execute_result"
    }
   ],
   "source": [
    "test_arr = os.listdir('test/')\n",
    "len(test_arr)"
   ]
  },
  {
   "cell_type": "code",
   "execution_count": 11,
   "id": "9c91e503-3dd1-4d7b-b01c-1d74d359602d",
   "metadata": {},
   "outputs": [],
   "source": [
    "for i in train_arr:\n",
    "    with open('train/'+i) as f:\n",
    "        lines = f.readlines()\n",
    "        mylist=[]\n",
    "        for i in range(0,len(lines)-2):\n",
    "            lines[i] = str(lines[i]).replace('\\n','')\n",
    "            mylist.append(str(lines[i]).split()[-1])\n",
    "        mylist.append(str(lines[-2]).split()[-1])\n",
    "        df.loc[len(df)] = mylist\n",
    "    "
   ]
  },
  {
   "cell_type": "code",
   "execution_count": 12,
   "id": "c2f86311-16c1-400c-8efd-bccc8687bcb5",
   "metadata": {},
   "outputs": [],
   "source": [
    "\n",
    "# with open('train/0.txt') as f:\n",
    "#     lines = f.readlines()\n",
    "#     ser = pd.Series()\n",
    "#     for i in range(0,len(lines)-2):\n",
    "#         lines[i] = str(lines[i]).replace('\\n','')\n",
    "#         name = str(lines[i]).split()[0]\n",
    "#         value = str(lines[i]).split()[-1]\n",
    "#         ser[name] = value\n",
    "#     ser[str(lines[-2]).split()[0]]=str(lines[-2]).split()[-1]\n",
    "#     print(ser)\n",
    "    "
   ]
  },
  {
   "cell_type": "code",
   "execution_count": 13,
   "id": "beb12bb5-1a79-471c-bc77-66c2281d226b",
   "metadata": {},
   "outputs": [],
   "source": [
    "\n",
    "# with open('train/0.txt') as f:\n",
    "#     lines = f.readlines()\n",
    "#     mylist=[]\n",
    "#     print(len(lines))\n",
    "#     for i in range(0,len(lines)-2):\n",
    "#         lines[i] = str(lines[i]).replace('\\n','')\n",
    "#         mylist.append(str(lines[i]).split()[-1])\n",
    "#     mylist.append(str(lines[-2]).split()[-1])\n",
    "#     print(len(mylist))\n",
    "#     print(mylist)\n",
    "#     df.loc[len(df)] = mylist\n",
    "    "
   ]
  },
  {
   "cell_type": "code",
   "execution_count": 14,
   "id": "a81302c5-8982-4b72-ace4-9a8451d21932",
   "metadata": {},
   "outputs": [
    {
     "data": {
      "text/html": [
       "<div>\n",
       "<style scoped>\n",
       "    .dataframe tbody tr th:only-of-type {\n",
       "        vertical-align: middle;\n",
       "    }\n",
       "\n",
       "    .dataframe tbody tr th {\n",
       "        vertical-align: top;\n",
       "    }\n",
       "\n",
       "    .dataframe thead th {\n",
       "        text-align: right;\n",
       "    }\n",
       "</style>\n",
       "<table border=\"1\" class=\"dataframe\">\n",
       "  <thead>\n",
       "    <tr style=\"text-align: right;\">\n",
       "      <th></th>\n",
       "      <th>ID</th>\n",
       "      <th>Delivery_person_ID</th>\n",
       "      <th>Delivery_person_Age</th>\n",
       "      <th>Delivery_person_Ratings</th>\n",
       "      <th>Restaurant_latitude</th>\n",
       "      <th>Restaurant_longitude</th>\n",
       "      <th>Delivery_location_latitude</th>\n",
       "      <th>Delivery_location_longitude</th>\n",
       "      <th>Order_Date</th>\n",
       "      <th>Time_Orderd</th>\n",
       "      <th>Time_Order_picked</th>\n",
       "      <th>Weather</th>\n",
       "      <th>Road_traffic_density</th>\n",
       "      <th>Vehicle_condition</th>\n",
       "      <th>Type_of_order</th>\n",
       "      <th>Type_of_vehicle</th>\n",
       "      <th>multiple_deliveries</th>\n",
       "      <th>Festival</th>\n",
       "      <th>City</th>\n",
       "      <th>Time_taken (min)</th>\n",
       "    </tr>\n",
       "  </thead>\n",
       "  <tbody>\n",
       "    <tr>\n",
       "      <th>0</th>\n",
       "      <td>0x5725</td>\n",
       "      <td>CHENRES13DEL03</td>\n",
       "      <td>30.000000</td>\n",
       "      <td>4.700000</td>\n",
       "      <td>13.027018</td>\n",
       "      <td>80.254791</td>\n",
       "      <td>13.087018</td>\n",
       "      <td>80.314791</td>\n",
       "      <td>21-03-2022</td>\n",
       "      <td>23:40</td>\n",
       "      <td>23:45</td>\n",
       "      <td>Sunny</td>\n",
       "      <td>Low</td>\n",
       "      <td>2</td>\n",
       "      <td>Buffet</td>\n",
       "      <td>scooter</td>\n",
       "      <td>0.000000</td>\n",
       "      <td>NaN</td>\n",
       "      <td>Urban</td>\n",
       "      <td>10.000000</td>\n",
       "    </tr>\n",
       "    <tr>\n",
       "      <th>1</th>\n",
       "      <td>0x98ff</td>\n",
       "      <td>RANCHIRES05DEL02</td>\n",
       "      <td>23.000000</td>\n",
       "      <td>4.100000</td>\n",
       "      <td>23.355164</td>\n",
       "      <td>85.324097</td>\n",
       "      <td>23.375164</td>\n",
       "      <td>85.344097</td>\n",
       "      <td>28-03-2022</td>\n",
       "      <td>8:35</td>\n",
       "      <td>8:50</td>\n",
       "      <td>Stormy</td>\n",
       "      <td>Low</td>\n",
       "      <td>0</td>\n",
       "      <td>Drinks</td>\n",
       "      <td>motorcycle</td>\n",
       "      <td>0.000000</td>\n",
       "      <td>No</td>\n",
       "      <td>Metropolitian</td>\n",
       "      <td>18.000000</td>\n",
       "    </tr>\n",
       "    <tr>\n",
       "      <th>2</th>\n",
       "      <td>0x1bfb</td>\n",
       "      <td>COIMBRES19DEL02</td>\n",
       "      <td>23.000000</td>\n",
       "      <td>4.700000</td>\n",
       "      <td>11.022298</td>\n",
       "      <td>76.998349</td>\n",
       "      <td>11.072298</td>\n",
       "      <td>77.048349</td>\n",
       "      <td>01-04-2022</td>\n",
       "      <td>21:40</td>\n",
       "      <td>21:55</td>\n",
       "      <td>Fog</td>\n",
       "      <td>Jam</td>\n",
       "      <td>1</td>\n",
       "      <td>Meal</td>\n",
       "      <td>motorcycle</td>\n",
       "      <td>0.000000</td>\n",
       "      <td>No</td>\n",
       "      <td>Metropolitian</td>\n",
       "      <td>29.000000</td>\n",
       "    </tr>\n",
       "    <tr>\n",
       "      <th>3</th>\n",
       "      <td>0x86ea</td>\n",
       "      <td>COIMBRES19DEL02</td>\n",
       "      <td>23.000000</td>\n",
       "      <td>4.600000</td>\n",
       "      <td>11.022298</td>\n",
       "      <td>76.998349</td>\n",
       "      <td>11.152298</td>\n",
       "      <td>77.128349</td>\n",
       "      <td>20-03-2022</td>\n",
       "      <td>22:50</td>\n",
       "      <td>22:55</td>\n",
       "      <td>Fog</td>\n",
       "      <td>Low</td>\n",
       "      <td>0</td>\n",
       "      <td>Buffet</td>\n",
       "      <td>motorcycle</td>\n",
       "      <td>0.000000</td>\n",
       "      <td>No</td>\n",
       "      <td>Urban</td>\n",
       "      <td>21.000000</td>\n",
       "    </tr>\n",
       "    <tr>\n",
       "      <th>4</th>\n",
       "      <td>0xb04e</td>\n",
       "      <td>HYDRES19DEL01</td>\n",
       "      <td>25.000000</td>\n",
       "      <td>5.000000</td>\n",
       "      <td>17.458998</td>\n",
       "      <td>78.500366</td>\n",
       "      <td>17.468998</td>\n",
       "      <td>78.510366</td>\n",
       "      <td>03-03-2022</td>\n",
       "      <td>11:15</td>\n",
       "      <td>11:30</td>\n",
       "      <td>Cloudy</td>\n",
       "      <td>High</td>\n",
       "      <td>0</td>\n",
       "      <td>Snack</td>\n",
       "      <td>motorcycle</td>\n",
       "      <td>1.000000</td>\n",
       "      <td>No</td>\n",
       "      <td>Urban</td>\n",
       "      <td>26.000000</td>\n",
       "    </tr>\n",
       "  </tbody>\n",
       "</table>\n",
       "</div>"
      ],
      "text/plain": [
       "       ID Delivery_person_ID Delivery_person_Age Delivery_person_Ratings  \\\n",
       "0  0x5725     CHENRES13DEL03           30.000000                4.700000   \n",
       "1  0x98ff   RANCHIRES05DEL02           23.000000                4.100000   \n",
       "2  0x1bfb    COIMBRES19DEL02           23.000000                4.700000   \n",
       "3  0x86ea    COIMBRES19DEL02           23.000000                4.600000   \n",
       "4  0xb04e      HYDRES19DEL01           25.000000                5.000000   \n",
       "\n",
       "  Restaurant_latitude Restaurant_longitude Delivery_location_latitude  \\\n",
       "0           13.027018            80.254791                  13.087018   \n",
       "1           23.355164            85.324097                  23.375164   \n",
       "2           11.022298            76.998349                  11.072298   \n",
       "3           11.022298            76.998349                  11.152298   \n",
       "4           17.458998            78.500366                  17.468998   \n",
       "\n",
       "  Delivery_location_longitude  Order_Date Time_Orderd Time_Order_picked  \\\n",
       "0                   80.314791  21-03-2022       23:40             23:45   \n",
       "1                   85.344097  28-03-2022        8:35              8:50   \n",
       "2                   77.048349  01-04-2022       21:40             21:55   \n",
       "3                   77.128349  20-03-2022       22:50             22:55   \n",
       "4                   78.510366  03-03-2022       11:15             11:30   \n",
       "\n",
       "  Weather Road_traffic_density Vehicle_condition Type_of_order  \\\n",
       "0   Sunny                  Low                 2        Buffet   \n",
       "1  Stormy                  Low                 0        Drinks   \n",
       "2     Fog                  Jam                 1          Meal   \n",
       "3     Fog                  Low                 0        Buffet   \n",
       "4  Cloudy                 High                 0         Snack   \n",
       "\n",
       "  Type_of_vehicle multiple_deliveries Festival           City Time_taken (min)  \n",
       "0         scooter            0.000000      NaN          Urban        10.000000  \n",
       "1      motorcycle            0.000000       No  Metropolitian        18.000000  \n",
       "2      motorcycle            0.000000       No  Metropolitian        29.000000  \n",
       "3      motorcycle            0.000000       No          Urban        21.000000  \n",
       "4      motorcycle            1.000000       No          Urban        26.000000  "
      ]
     },
     "execution_count": 14,
     "metadata": {},
     "output_type": "execute_result"
    }
   ],
   "source": [
    "df.head()"
   ]
  },
  {
   "cell_type": "code",
   "execution_count": 15,
   "id": "5aa929fa-adc3-40aa-932b-8c99abe50611",
   "metadata": {},
   "outputs": [
    {
     "data": {
      "text/plain": [
       "(45593, 20)"
      ]
     },
     "execution_count": 15,
     "metadata": {},
     "output_type": "execute_result"
    }
   ],
   "source": [
    "df.shape"
   ]
  },
  {
   "cell_type": "code",
   "execution_count": 16,
   "id": "16928260-3ce8-4b50-a3ed-962c07b248e4",
   "metadata": {},
   "outputs": [],
   "source": [
    "df.to_csv('train.csv',index=False)"
   ]
  },
  {
   "cell_type": "markdown",
   "id": "fb66ec88-442c-4fea-9025-9fbd5e46eac0",
   "metadata": {
    "tags": []
   },
   "source": [
    "# Test csv build"
   ]
  },
  {
   "cell_type": "code",
   "execution_count": 23,
   "id": "fdbe64c0-d8b6-4ced-9d2a-33f3498a332d",
   "metadata": {},
   "outputs": [
    {
     "data": {
      "text/plain": [
       "['ID',\n",
       " 'Delivery_person_ID',\n",
       " 'Delivery_person_Age',\n",
       " 'Delivery_person_Ratings',\n",
       " 'Restaurant_latitude',\n",
       " 'Restaurant_longitude',\n",
       " 'Delivery_location_latitude',\n",
       " 'Delivery_location_longitude',\n",
       " 'Order_Date',\n",
       " 'Time_Orderd',\n",
       " 'Time_Order_picked',\n",
       " 'Weather',\n",
       " 'Road_traffic_density',\n",
       " 'Vehicle_condition',\n",
       " 'Type_of_order',\n",
       " 'Type_of_vehicle',\n",
       " 'multiple_deliveries',\n",
       " 'Festival',\n",
       " 'City',\n",
       " 'Time_taken (min)']"
      ]
     },
     "execution_count": 23,
     "metadata": {},
     "output_type": "execute_result"
    }
   ],
   "source": [
    "col"
   ]
  },
  {
   "cell_type": "code",
   "execution_count": 24,
   "id": "9901277f-ef4c-420c-8327-ffb2379afe24",
   "metadata": {},
   "outputs": [],
   "source": [
    "col.remove(\"Time_taken (min)\")"
   ]
  },
  {
   "cell_type": "code",
   "execution_count": 25,
   "id": "8930bbb2-5e19-453c-a0a1-4e4429fd7251",
   "metadata": {},
   "outputs": [
    {
     "data": {
      "text/html": [
       "<div>\n",
       "<style scoped>\n",
       "    .dataframe tbody tr th:only-of-type {\n",
       "        vertical-align: middle;\n",
       "    }\n",
       "\n",
       "    .dataframe tbody tr th {\n",
       "        vertical-align: top;\n",
       "    }\n",
       "\n",
       "    .dataframe thead th {\n",
       "        text-align: right;\n",
       "    }\n",
       "</style>\n",
       "<table border=\"1\" class=\"dataframe\">\n",
       "  <thead>\n",
       "    <tr style=\"text-align: right;\">\n",
       "      <th></th>\n",
       "      <th>ID</th>\n",
       "      <th>Delivery_person_ID</th>\n",
       "      <th>Delivery_person_Age</th>\n",
       "      <th>Delivery_person_Ratings</th>\n",
       "      <th>Restaurant_latitude</th>\n",
       "      <th>Restaurant_longitude</th>\n",
       "      <th>Delivery_location_latitude</th>\n",
       "      <th>Delivery_location_longitude</th>\n",
       "      <th>Order_Date</th>\n",
       "      <th>Time_Orderd</th>\n",
       "      <th>Time_Order_picked</th>\n",
       "      <th>Weather</th>\n",
       "      <th>Road_traffic_density</th>\n",
       "      <th>Vehicle_condition</th>\n",
       "      <th>Type_of_order</th>\n",
       "      <th>Type_of_vehicle</th>\n",
       "      <th>multiple_deliveries</th>\n",
       "      <th>Festival</th>\n",
       "      <th>City</th>\n",
       "    </tr>\n",
       "  </thead>\n",
       "  <tbody>\n",
       "  </tbody>\n",
       "</table>\n",
       "</div>"
      ],
      "text/plain": [
       "Empty DataFrame\n",
       "Columns: [ID, Delivery_person_ID, Delivery_person_Age, Delivery_person_Ratings, Restaurant_latitude, Restaurant_longitude, Delivery_location_latitude, Delivery_location_longitude, Order_Date, Time_Orderd, Time_Order_picked, Weather, Road_traffic_density, Vehicle_condition, Type_of_order, Type_of_vehicle, multiple_deliveries, Festival, City]\n",
       "Index: []"
      ]
     },
     "execution_count": 25,
     "metadata": {},
     "output_type": "execute_result"
    }
   ],
   "source": [
    "df_test = pd.DataFrame(columns=col)\n",
    "df_test"
   ]
  },
  {
   "cell_type": "code",
   "execution_count": 26,
   "id": "bbcb6977-8e67-4e43-83bc-c408a8e0c13a",
   "metadata": {},
   "outputs": [],
   "source": [
    "for i in test_arr:\n",
    "    with open('test/'+i) as f:\n",
    "        lines = f.readlines()\n",
    "        mylist=[]\n",
    "        for i in range(0,len(lines)-2):\n",
    "            lines[i] = str(lines[i]).replace('\\n','')\n",
    "            mylist.append(str(lines[i]).split()[-1])\n",
    "        mylist.append(str(lines[-2]).split()[-1])\n",
    "        df_test.loc[len(df_test)] = mylist\n",
    "    "
   ]
  },
  {
   "cell_type": "code",
   "execution_count": 27,
   "id": "83331a11-12a8-4612-ad4e-3920f11230da",
   "metadata": {},
   "outputs": [
    {
     "data": {
      "text/html": [
       "<div>\n",
       "<style scoped>\n",
       "    .dataframe tbody tr th:only-of-type {\n",
       "        vertical-align: middle;\n",
       "    }\n",
       "\n",
       "    .dataframe tbody tr th {\n",
       "        vertical-align: top;\n",
       "    }\n",
       "\n",
       "    .dataframe thead th {\n",
       "        text-align: right;\n",
       "    }\n",
       "</style>\n",
       "<table border=\"1\" class=\"dataframe\">\n",
       "  <thead>\n",
       "    <tr style=\"text-align: right;\">\n",
       "      <th></th>\n",
       "      <th>ID</th>\n",
       "      <th>Delivery_person_ID</th>\n",
       "      <th>Delivery_person_Age</th>\n",
       "      <th>Delivery_person_Ratings</th>\n",
       "      <th>Restaurant_latitude</th>\n",
       "      <th>Restaurant_longitude</th>\n",
       "      <th>Delivery_location_latitude</th>\n",
       "      <th>Delivery_location_longitude</th>\n",
       "      <th>Order_Date</th>\n",
       "      <th>Time_Orderd</th>\n",
       "      <th>Time_Order_picked</th>\n",
       "      <th>Weather</th>\n",
       "      <th>Road_traffic_density</th>\n",
       "      <th>Vehicle_condition</th>\n",
       "      <th>Type_of_order</th>\n",
       "      <th>Type_of_vehicle</th>\n",
       "      <th>multiple_deliveries</th>\n",
       "      <th>Festival</th>\n",
       "      <th>City</th>\n",
       "    </tr>\n",
       "  </thead>\n",
       "  <tbody>\n",
       "    <tr>\n",
       "      <th>0</th>\n",
       "      <td>0x3a80</td>\n",
       "      <td>BANGRES15DEL02</td>\n",
       "      <td>32.000000</td>\n",
       "      <td>4.900000</td>\n",
       "      <td>12.975377</td>\n",
       "      <td>77.696664</td>\n",
       "      <td>13.055377</td>\n",
       "      <td>77.776664</td>\n",
       "      <td>20-03-2022</td>\n",
       "      <td>23:25</td>\n",
       "      <td>23:40</td>\n",
       "      <td>Sandstorms</td>\n",
       "      <td>Low</td>\n",
       "      <td>2</td>\n",
       "      <td>Drinks</td>\n",
       "      <td>scooter</td>\n",
       "      <td>1.000000</td>\n",
       "      <td>No</td>\n",
       "      <td>Metropolitian</td>\n",
       "    </tr>\n",
       "    <tr>\n",
       "      <th>1</th>\n",
       "      <td>0x4e2d</td>\n",
       "      <td>INDORES01DEL01</td>\n",
       "      <td>32.000000</td>\n",
       "      <td>4.800000</td>\n",
       "      <td>22.695207</td>\n",
       "      <td>75.866059</td>\n",
       "      <td>22.735207</td>\n",
       "      <td>75.906059</td>\n",
       "      <td>26-03-2022</td>\n",
       "      <td>14:40</td>\n",
       "      <td>14:55</td>\n",
       "      <td>Windy</td>\n",
       "      <td>High</td>\n",
       "      <td>1</td>\n",
       "      <td>Meal</td>\n",
       "      <td>scooter</td>\n",
       "      <td>1.000000</td>\n",
       "      <td>No</td>\n",
       "      <td>Urban</td>\n",
       "    </tr>\n",
       "    <tr>\n",
       "      <th>2</th>\n",
       "      <td>0x4ba7</td>\n",
       "      <td>COIMBRES17DEL01</td>\n",
       "      <td>39.000000</td>\n",
       "      <td>3.600000</td>\n",
       "      <td>11.026117</td>\n",
       "      <td>76.944652</td>\n",
       "      <td>11.096117</td>\n",
       "      <td>77.014652</td>\n",
       "      <td>02-03-2022</td>\n",
       "      <td>20:55</td>\n",
       "      <td>21:05</td>\n",
       "      <td>Sunny</td>\n",
       "      <td>Jam</td>\n",
       "      <td>2</td>\n",
       "      <td>Meal</td>\n",
       "      <td>motorcycle</td>\n",
       "      <td>1.000000</td>\n",
       "      <td>No</td>\n",
       "      <td>Metropolitian</td>\n",
       "    </tr>\n",
       "    <tr>\n",
       "      <th>3</th>\n",
       "      <td>0x1f09</td>\n",
       "      <td>CHENRES010DEL01</td>\n",
       "      <td>33.000000</td>\n",
       "      <td>4.100000</td>\n",
       "      <td>13.066762</td>\n",
       "      <td>80.251865</td>\n",
       "      <td>13.136762</td>\n",
       "      <td>80.321865</td>\n",
       "      <td>20-03-2022</td>\n",
       "      <td>18:20</td>\n",
       "      <td>18:30</td>\n",
       "      <td>Sunny</td>\n",
       "      <td>Medium</td>\n",
       "      <td>0</td>\n",
       "      <td>Drinks</td>\n",
       "      <td>motorcycle</td>\n",
       "      <td>2.000000</td>\n",
       "      <td>No</td>\n",
       "      <td>Metropolitian</td>\n",
       "    </tr>\n",
       "    <tr>\n",
       "      <th>4</th>\n",
       "      <td>0x547</td>\n",
       "      <td>MYSRES11DEL03</td>\n",
       "      <td>NaN</td>\n",
       "      <td>NaN</td>\n",
       "      <td>-12.323225</td>\n",
       "      <td>76.630028</td>\n",
       "      <td>12.383225</td>\n",
       "      <td>76.690028</td>\n",
       "      <td>05-03-2022</td>\n",
       "      <td>NaN</td>\n",
       "      <td>22:15</td>\n",
       "      <td>NaN</td>\n",
       "      <td>NaN</td>\n",
       "      <td>0</td>\n",
       "      <td>Meal</td>\n",
       "      <td>motorcycle</td>\n",
       "      <td>1.000000</td>\n",
       "      <td>No</td>\n",
       "      <td>Metropolitian</td>\n",
       "    </tr>\n",
       "  </tbody>\n",
       "</table>\n",
       "</div>"
      ],
      "text/plain": [
       "       ID Delivery_person_ID Delivery_person_Age Delivery_person_Ratings  \\\n",
       "0  0x3a80     BANGRES15DEL02           32.000000                4.900000   \n",
       "1  0x4e2d     INDORES01DEL01           32.000000                4.800000   \n",
       "2  0x4ba7    COIMBRES17DEL01           39.000000                3.600000   \n",
       "3  0x1f09    CHENRES010DEL01           33.000000                4.100000   \n",
       "4   0x547      MYSRES11DEL03                 NaN                     NaN   \n",
       "\n",
       "  Restaurant_latitude Restaurant_longitude Delivery_location_latitude  \\\n",
       "0           12.975377            77.696664                  13.055377   \n",
       "1           22.695207            75.866059                  22.735207   \n",
       "2           11.026117            76.944652                  11.096117   \n",
       "3           13.066762            80.251865                  13.136762   \n",
       "4          -12.323225            76.630028                  12.383225   \n",
       "\n",
       "  Delivery_location_longitude  Order_Date Time_Orderd Time_Order_picked  \\\n",
       "0                   77.776664  20-03-2022       23:25             23:40   \n",
       "1                   75.906059  26-03-2022       14:40             14:55   \n",
       "2                   77.014652  02-03-2022       20:55             21:05   \n",
       "3                   80.321865  20-03-2022       18:20             18:30   \n",
       "4                   76.690028  05-03-2022         NaN             22:15   \n",
       "\n",
       "      Weather Road_traffic_density Vehicle_condition Type_of_order  \\\n",
       "0  Sandstorms                  Low                 2        Drinks   \n",
       "1       Windy                 High                 1          Meal   \n",
       "2       Sunny                  Jam                 2          Meal   \n",
       "3       Sunny               Medium                 0        Drinks   \n",
       "4         NaN                  NaN                 0          Meal   \n",
       "\n",
       "  Type_of_vehicle multiple_deliveries Festival           City  \n",
       "0         scooter            1.000000       No  Metropolitian  \n",
       "1         scooter            1.000000       No          Urban  \n",
       "2      motorcycle            1.000000       No  Metropolitian  \n",
       "3      motorcycle            2.000000       No  Metropolitian  \n",
       "4      motorcycle            1.000000       No  Metropolitian  "
      ]
     },
     "execution_count": 27,
     "metadata": {},
     "output_type": "execute_result"
    }
   ],
   "source": [
    "df_test.head()"
   ]
  },
  {
   "cell_type": "code",
   "execution_count": 28,
   "id": "bc7dc203-4941-432d-9d17-f70b520a5189",
   "metadata": {},
   "outputs": [],
   "source": [
    "df_test.to_csv(\"test.csv\",index=False)"
   ]
  },
  {
   "cell_type": "code",
   "execution_count": 29,
   "id": "d68e2573-5c22-46d0-afb9-7ed834e2db33",
   "metadata": {},
   "outputs": [
    {
     "data": {
      "text/plain": [
       "(11399, 19)"
      ]
     },
     "execution_count": 29,
     "metadata": {},
     "output_type": "execute_result"
    }
   ],
   "source": [
    "df_test.shape"
   ]
  },
  {
   "cell_type": "code",
   "execution_count": null,
   "id": "95c5ca51-8b6f-4961-b512-eccc31b55311",
   "metadata": {},
   "outputs": [],
   "source": []
  }
 ],
 "metadata": {
  "kernelspec": {
   "display_name": "Python 3 (ipykernel)",
   "language": "python",
   "name": "python3"
  },
  "language_info": {
   "codemirror_mode": {
    "name": "ipython",
    "version": 3
   },
   "file_extension": ".py",
   "mimetype": "text/x-python",
   "name": "python",
   "nbconvert_exporter": "python",
   "pygments_lexer": "ipython3",
   "version": "3.9.12"
  }
 },
 "nbformat": 4,
 "nbformat_minor": 5
}
